{
  "nbformat": 4,
  "nbformat_minor": 0,
  "metadata": {
    "colab": {
      "name": "2.1-FirstNeuralNet.ipynb",
      "provenance": [],
      "collapsed_sections": []
    },
    "kernelspec": {
      "name": "python3",
      "display_name": "Python 3"
    }
  },
  "cells": [
    {
      "cell_type": "code",
      "metadata": {
        "id": "mjHs0gNKd4lC",
        "colab_type": "code",
        "colab": {
          "base_uri": "https://localhost:8080/",
          "height": 35
        },
        "outputId": "ce5ec4a7-1d59-416c-a338-e96d0b0dc9f6"
      },
      "source": [
        "import keras\n",
        "from keras.datasets import mnist\n",
        "from keras import models\n",
        "from keras import layers\n",
        "from keras.utils import to_categorical\n",
        "print(keras.__version__)"
      ],
      "execution_count": 16,
      "outputs": [
        {
          "output_type": "stream",
          "text": [
            "2.4.3\n"
          ],
          "name": "stdout"
        }
      ]
    },
    {
      "cell_type": "code",
      "metadata": {
        "id": "GgR-2Wu1hFfW",
        "colab_type": "code",
        "colab": {
          "base_uri": "https://localhost:8080/",
          "height": 88
        },
        "outputId": "501b1e83-f8d6-4781-a81b-1b0924c17c9c"
      },
      "source": [
        "(train_images, train_labels), (test_images, test_labels) = mnist.load_data()\n",
        "print(train_images.shape)\n",
        "print(len(train_labels))\n",
        "print(test_images.shape)\n",
        "print(len(test_labels))"
      ],
      "execution_count": 17,
      "outputs": [
        {
          "output_type": "stream",
          "text": [
            "(60000, 28, 28)\n",
            "60000\n",
            "(10000, 28, 28)\n",
            "10000\n"
          ],
          "name": "stdout"
        }
      ]
    },
    {
      "cell_type": "code",
      "metadata": {
        "id": "xNj9tDfShann",
        "colab_type": "code",
        "colab": {}
      },
      "source": [
        "def preprocess(train_images, train_labels, test_images, test_labels):\n",
        "  train_images = train_images.reshape((-1, 28*28))\n",
        "  train_images = train_images.astype('float32') / 255\n",
        "\n",
        "  test_images = test_images.reshape((-1, 28*28))\n",
        "  test_images = test_images.astype('float32') / 255 \n",
        "\n",
        "  train_labels = to_categorical(train_labels)\n",
        "  test_labels = to_categorical(test_labels)\n",
        "  return (train_images, train_labels), (test_images, test_labels)"
      ],
      "execution_count": 18,
      "outputs": []
    },
    {
      "cell_type": "code",
      "metadata": {
        "id": "PuV1Ff4dhb_A",
        "colab_type": "code",
        "colab": {}
      },
      "source": [
        "def create_model():\n",
        "  network = models.Sequential()\n",
        "  network.add(layers.Dense(512, activation='relu', input_shape=(28*28,)))\n",
        "  network.add(layers.Dense(10, activation='softmax'))\n",
        "  return network"
      ],
      "execution_count": 19,
      "outputs": []
    },
    {
      "cell_type": "code",
      "metadata": {
        "id": "UoQ2sSU6iDiU",
        "colab_type": "code",
        "colab": {
          "base_uri": "https://localhost:8080/",
          "height": 212
        },
        "outputId": "05e94ae3-acfb-4096-f237-5a399c642f48"
      },
      "source": [
        "(train_images, train_labels), (test_images, test_labels) = preprocess(train_images, train_labels, test_images, test_labels)\n",
        "network = create_model()\n",
        "network.compile(optimizer='rmsprop',\n",
        "                loss='categorical_crossentropy',\n",
        "                metrics=['accuracy'])\n",
        "network.fit(train_images, train_labels, epochs=5, batch_size=128)"
      ],
      "execution_count": 20,
      "outputs": [
        {
          "output_type": "stream",
          "text": [
            "Epoch 1/5\n",
            "469/469 [==============================] - 4s 9ms/step - loss: 0.2537 - accuracy: 0.9262\n",
            "Epoch 2/5\n",
            "469/469 [==============================] - 4s 9ms/step - loss: 0.1035 - accuracy: 0.9694\n",
            "Epoch 3/5\n",
            "469/469 [==============================] - 4s 9ms/step - loss: 0.0682 - accuracy: 0.9793\n",
            "Epoch 4/5\n",
            "469/469 [==============================] - 4s 9ms/step - loss: 0.0490 - accuracy: 0.9851\n",
            "Epoch 5/5\n",
            "469/469 [==============================] - 4s 9ms/step - loss: 0.0374 - accuracy: 0.9889\n"
          ],
          "name": "stdout"
        },
        {
          "output_type": "execute_result",
          "data": {
            "text/plain": [
              "<tensorflow.python.keras.callbacks.History at 0x7fdd2b314550>"
            ]
          },
          "metadata": {
            "tags": []
          },
          "execution_count": 20
        }
      ]
    },
    {
      "cell_type": "code",
      "metadata": {
        "id": "iEgIb4_ajOjo",
        "colab_type": "code",
        "colab": {
          "base_uri": "https://localhost:8080/",
          "height": 35
        },
        "outputId": "1aef47e6-0b28-4ccd-b72c-b583fb57fc36"
      },
      "source": [
        "test_loss, test_acc = network.evaluate(test_images, test_labels)"
      ],
      "execution_count": 21,
      "outputs": [
        {
          "output_type": "stream",
          "text": [
            "313/313 [==============================] - 1s 2ms/step - loss: 0.0690 - accuracy: 0.9795\n"
          ],
          "name": "stdout"
        }
      ]
    },
    {
      "cell_type": "code",
      "metadata": {
        "id": "nzcemIE-k4qH",
        "colab_type": "code",
        "colab": {}
      },
      "source": [
        ""
      ],
      "execution_count": null,
      "outputs": []
    }
  ]
}