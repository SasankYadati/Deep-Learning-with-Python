{
  "nbformat": 4,
  "nbformat_minor": 0,
  "metadata": {
    "colab": {
      "name": "4.4-OverfittingAndUnderfitting.ipynb",
      "provenance": [],
      "collapsed_sections": []
    },
    "kernelspec": {
      "name": "python3",
      "display_name": "Python 3"
    }
  },
  "cells": [
    {
      "cell_type": "code",
      "metadata": {
        "id": "XGkJIDBMWmis",
        "colab_type": "code",
        "colab": {}
      },
      "source": [
        "import numpy as np\n",
        "from keras.datasets import imdb\n",
        "from keras import models, layers, regularizers\n",
        "import matplotlib.pyplot as plt"
      ],
      "execution_count": 5,
      "outputs": []
    },
    {
      "cell_type": "code",
      "metadata": {
        "id": "Vv9sqZn9XCC_",
        "colab_type": "code",
        "colab": {
          "base_uri": "https://localhost:8080/",
          "height": 70
        },
        "outputId": "794eb62a-ab5b-4b07-e1ea-cb8beb15661c"
      },
      "source": [
        "(train_data, train_labels), (test_data, test_labels) = imdb.load_data(num_words=10000)"
      ],
      "execution_count": 2,
      "outputs": [
        {
          "output_type": "stream",
          "text": [
            "Downloading data from https://storage.googleapis.com/tensorflow/tf-keras-datasets/imdb.npz\n",
            "17465344/17464789 [==============================] - 0s 0us/step\n"
          ],
          "name": "stdout"
        }
      ]
    },
    {
      "cell_type": "code",
      "metadata": {
        "id": "mFGvSt4-XJar",
        "colab_type": "code",
        "colab": {}
      },
      "source": [
        "def vectorize_sequences(sequences, ndim=10000):\n",
        "  vec_seq = np.zeros((len(sequences), ndim))\n",
        "  for i, seq in enumerate(sequences):\n",
        "    vec_seq[i,seq] = 1.\n",
        "  return vec_seq"
      ],
      "execution_count": 3,
      "outputs": []
    },
    {
      "cell_type": "code",
      "metadata": {
        "id": "a8KXiugpbdPF",
        "colab_type": "code",
        "colab": {}
      },
      "source": [
        "x_train = vectorize_sequences(train_data)\n",
        "x_test = vectorize_sequences(test_data)\n",
        "y_train = np.asarray(train_labels).astype('float32')\n",
        "y_test = np.asarray(test_labels).astype('float32')"
      ],
      "execution_count": 6,
      "outputs": []
    },
    {
      "cell_type": "code",
      "metadata": {
        "id": "Wrkz9NsxdnFO",
        "colab_type": "code",
        "colab": {}
      },
      "source": [
        "original_model = models.Sequential()\n",
        "original_model.add(layers.Dense(16, activation='relu', input_shape=(10000,)))\n",
        "original_model.add(layers.Dense(16, activation='relu'))\n",
        "original_model.add(layers.Dense(1, activation='sigmoid'))\n",
        "original_model.compile(optimizer='rmsprop',\n",
        "                       loss='binary_crossentropy',\n",
        "                       metrics=['acc'])"
      ],
      "execution_count": 8,
      "outputs": []
    },
    {
      "cell_type": "code",
      "metadata": {
        "id": "-dmxUlVfe1mf",
        "colab_type": "code",
        "colab": {}
      },
      "source": [
        "smaller_model = models.Sequential()\n",
        "smaller_model.add(layers.Dense(4, activation='relu', input_shape=(10000,)))\n",
        "smaller_model.add(layers.Dense(4, activation='relu'))\n",
        "smaller_model.add(layers.Dense(1, activation='sigmoid'))\n",
        "smaller_model.compile(optimizer='rmsprop',\n",
        "                      loss='binary_crossentropy',\n",
        "                      metrics=['acc'])"
      ],
      "execution_count": 9,
      "outputs": []
    },
    {
      "cell_type": "code",
      "metadata": {
        "id": "3XAFoMBLkSo3",
        "colab_type": "code",
        "colab": {
          "base_uri": "https://localhost:8080/",
          "height": 1000
        },
        "outputId": "1c8b3d53-5eac-4015-c6fa-4c5c87ef6bc7"
      },
      "source": [
        "original_model_hist = original_model.fit(x_train, y_train,\n",
        "                                   epochs=20,\n",
        "                                   batch_size=512,\n",
        "                                   validation_data=(x_test, y_test),\n",
        "                                   verbose=2)\n",
        "smaller_model_hist = smaller_model.fit(x_train, y_train,\n",
        "                                   epochs=20,\n",
        "                                   batch_size=512,\n",
        "                                   validation_data=(x_test, y_test),\n",
        "                                   verbose=2)"
      ],
      "execution_count": 10,
      "outputs": [
        {
          "output_type": "stream",
          "text": [
            "Epoch 1/20\n",
            "49/49 - 3s - loss: 0.4522 - acc: 0.8220 - val_loss: 0.3375 - val_acc: 0.8789\n",
            "Epoch 2/20\n",
            "49/49 - 2s - loss: 0.2599 - acc: 0.9096 - val_loss: 0.2870 - val_acc: 0.8870\n",
            "Epoch 3/20\n",
            "49/49 - 2s - loss: 0.2005 - acc: 0.9286 - val_loss: 0.2889 - val_acc: 0.8836\n",
            "Epoch 4/20\n",
            "49/49 - 2s - loss: 0.1688 - acc: 0.9408 - val_loss: 0.3050 - val_acc: 0.8782\n",
            "Epoch 5/20\n",
            "49/49 - 2s - loss: 0.1423 - acc: 0.9516 - val_loss: 0.3083 - val_acc: 0.8802\n",
            "Epoch 6/20\n",
            "49/49 - 2s - loss: 0.1251 - acc: 0.9569 - val_loss: 0.3282 - val_acc: 0.8770\n",
            "Epoch 7/20\n",
            "49/49 - 2s - loss: 0.1070 - acc: 0.9642 - val_loss: 0.3609 - val_acc: 0.8708\n",
            "Epoch 8/20\n",
            "49/49 - 2s - loss: 0.0938 - acc: 0.9705 - val_loss: 0.3930 - val_acc: 0.8658\n",
            "Epoch 9/20\n",
            "49/49 - 2s - loss: 0.0815 - acc: 0.9743 - val_loss: 0.4032 - val_acc: 0.8682\n",
            "Epoch 10/20\n",
            "49/49 - 2s - loss: 0.0697 - acc: 0.9795 - val_loss: 0.4351 - val_acc: 0.8650\n",
            "Epoch 11/20\n",
            "49/49 - 2s - loss: 0.0598 - acc: 0.9819 - val_loss: 0.4827 - val_acc: 0.8586\n",
            "Epoch 12/20\n",
            "49/49 - 2s - loss: 0.0520 - acc: 0.9841 - val_loss: 0.4966 - val_acc: 0.8612\n",
            "Epoch 13/20\n",
            "49/49 - 2s - loss: 0.0422 - acc: 0.9885 - val_loss: 0.5236 - val_acc: 0.8613\n",
            "Epoch 14/20\n",
            "49/49 - 2s - loss: 0.0351 - acc: 0.9911 - val_loss: 0.5576 - val_acc: 0.8580\n",
            "Epoch 15/20\n",
            "49/49 - 2s - loss: 0.0305 - acc: 0.9920 - val_loss: 0.6269 - val_acc: 0.8523\n",
            "Epoch 16/20\n",
            "49/49 - 2s - loss: 0.0239 - acc: 0.9949 - val_loss: 0.6306 - val_acc: 0.8555\n",
            "Epoch 17/20\n",
            "49/49 - 2s - loss: 0.0216 - acc: 0.9946 - val_loss: 0.6668 - val_acc: 0.8545\n",
            "Epoch 18/20\n",
            "49/49 - 2s - loss: 0.0156 - acc: 0.9965 - val_loss: 0.7151 - val_acc: 0.8532\n",
            "Epoch 19/20\n",
            "49/49 - 2s - loss: 0.0140 - acc: 0.9966 - val_loss: 0.7425 - val_acc: 0.8538\n",
            "Epoch 20/20\n",
            "49/49 - 2s - loss: 0.0105 - acc: 0.9978 - val_loss: 0.7821 - val_acc: 0.8530\n",
            "Epoch 1/20\n",
            "49/49 - 4s - loss: 0.6264 - acc: 0.7374 - val_loss: 0.5666 - val_acc: 0.8340\n",
            "Epoch 2/20\n",
            "49/49 - 2s - loss: 0.4878 - acc: 0.8645 - val_loss: 0.4423 - val_acc: 0.8652\n",
            "Epoch 3/20\n",
            "49/49 - 2s - loss: 0.3666 - acc: 0.8932 - val_loss: 0.3583 - val_acc: 0.8784\n",
            "Epoch 4/20\n",
            "49/49 - 2s - loss: 0.2883 - acc: 0.9106 - val_loss: 0.3106 - val_acc: 0.8857\n",
            "Epoch 5/20\n",
            "49/49 - 2s - loss: 0.2390 - acc: 0.9211 - val_loss: 0.2883 - val_acc: 0.8880\n",
            "Epoch 6/20\n",
            "49/49 - 2s - loss: 0.2073 - acc: 0.9303 - val_loss: 0.2792 - val_acc: 0.8904\n",
            "Epoch 7/20\n",
            "49/49 - 2s - loss: 0.1864 - acc: 0.9355 - val_loss: 0.2771 - val_acc: 0.8906\n",
            "Epoch 8/20\n",
            "49/49 - 2s - loss: 0.1695 - acc: 0.9420 - val_loss: 0.2827 - val_acc: 0.8875\n",
            "Epoch 9/20\n",
            "49/49 - 2s - loss: 0.1566 - acc: 0.9465 - val_loss: 0.2846 - val_acc: 0.8878\n",
            "Epoch 10/20\n",
            "49/49 - 2s - loss: 0.1450 - acc: 0.9515 - val_loss: 0.2933 - val_acc: 0.8854\n",
            "Epoch 11/20\n",
            "49/49 - 2s - loss: 0.1349 - acc: 0.9548 - val_loss: 0.3006 - val_acc: 0.8837\n",
            "Epoch 12/20\n",
            "49/49 - 2s - loss: 0.1259 - acc: 0.9585 - val_loss: 0.3106 - val_acc: 0.8823\n",
            "Epoch 13/20\n",
            "49/49 - 2s - loss: 0.1180 - acc: 0.9618 - val_loss: 0.3226 - val_acc: 0.8796\n",
            "Epoch 14/20\n",
            "49/49 - 2s - loss: 0.1107 - acc: 0.9644 - val_loss: 0.3324 - val_acc: 0.8791\n",
            "Epoch 15/20\n",
            "49/49 - 2s - loss: 0.1042 - acc: 0.9674 - val_loss: 0.3465 - val_acc: 0.8774\n",
            "Epoch 16/20\n",
            "49/49 - 2s - loss: 0.0984 - acc: 0.9692 - val_loss: 0.3577 - val_acc: 0.8747\n",
            "Epoch 17/20\n",
            "49/49 - 2s - loss: 0.0924 - acc: 0.9725 - val_loss: 0.3806 - val_acc: 0.8682\n",
            "Epoch 18/20\n",
            "49/49 - 2s - loss: 0.0873 - acc: 0.9734 - val_loss: 0.3863 - val_acc: 0.8708\n",
            "Epoch 19/20\n",
            "49/49 - 2s - loss: 0.0825 - acc: 0.9757 - val_loss: 0.4011 - val_acc: 0.8696\n",
            "Epoch 20/20\n",
            "49/49 - 2s - loss: 0.0773 - acc: 0.9776 - val_loss: 0.4229 - val_acc: 0.8650\n"
          ],
          "name": "stdout"
        }
      ]
    },
    {
      "cell_type": "code",
      "metadata": {
        "id": "b2PQ3quokseC",
        "colab_type": "code",
        "colab": {}
      },
      "source": [
        "epochs = range(1, 21)\n",
        "original_val_loss = original_model_hist.history['val_loss']\n",
        "smaller_val_loss = smaller_model_hist.history['val_loss']"
      ],
      "execution_count": 11,
      "outputs": []
    },
    {
      "cell_type": "code",
      "metadata": {
        "id": "B9iLDAjPlK15",
        "colab_type": "code",
        "colab": {
          "base_uri": "https://localhost:8080/",
          "height": 297
        },
        "outputId": "64b7e7c9-a763-464d-f39c-ecd726f2f3b3"
      },
      "source": [
        "plt.plot(epochs, original_val_loss, 'b+', label='Original')\n",
        "plt.plot(epochs, smaller_val_loss, 'bo', label='Smaller')\n",
        "plt.xlabel('Epochs')\n",
        "plt.ylabel('Validation Loss')\n",
        "plt.legend()"
      ],
      "execution_count": 12,
      "outputs": [
        {
          "output_type": "execute_result",
          "data": {
            "text/plain": [
              "<matplotlib.legend.Legend at 0x7ff7dd73f4e0>"
            ]
          },
          "metadata": {
            "tags": []
          },
          "execution_count": 12
        },
        {
          "output_type": "display_data",
          "data": {
            "image/png": "[encoded data removed]",
            "text/plain": [
              "<Figure size 432x288 with 1 Axes>"
            ]
          },
          "metadata": {
            "tags": [],
            "needs_background": "light"
          }
        }
      ]
    },
    {
      "cell_type": "code",
      "metadata": {
        "id": "iWtnUCy1lcz3",
        "colab_type": "code",
        "colab": {}
      },
      "source": [
        "bigger_model = models.Sequential()\n",
        "bigger_model.add(layers.Dense(512, activation='relu', input_shape=(10000,)))\n",
        "bigger_model.add(layers.Dense(512, activation='relu'))\n",
        "bigger_model.add(layers.Dense(1, activation='sigmoid'))\n",
        "bigger_model.compile(optimizer='rmsprop',\n",
        "                     loss='binary_crossentropy',\n",
        "                     metrics=['acc'])"
      ],
      "execution_count": 13,
      "outputs": []
    },
    {
      "cell_type": "code",
      "metadata": {
        "id": "dPBr8QMroH6o",
        "colab_type": "code",
        "colab": {
          "base_uri": "https://localhost:8080/",
          "height": 689
        },
        "outputId": "a172fae9-fbd4-4a27-da4d-597d4f477cf5"
      },
      "source": [
        "bigger_model_hist = bigger_model.fit(x_train, y_train,\n",
        "                                     epochs=20,\n",
        "                                     batch_size=512,\n",
        "                                     validation_data=(x_test, y_test),\n",
        "                                     verbose=2)"
      ],
      "execution_count": 14,
      "outputs": [
        {
          "output_type": "stream",
          "text": [
            "Epoch 1/20\n",
            "49/49 - 16s - loss: 0.4535 - acc: 0.7989 - val_loss: 0.3023 - val_acc: 0.8718\n",
            "Epoch 2/20\n",
            "49/49 - 16s - loss: 0.2123 - acc: 0.9152 - val_loss: 0.3710 - val_acc: 0.8588\n",
            "Epoch 3/20\n",
            "49/49 - 15s - loss: 0.1322 - acc: 0.9511 - val_loss: 0.3161 - val_acc: 0.8844\n",
            "Epoch 4/20\n",
            "49/49 - 15s - loss: 0.0502 - acc: 0.9833 - val_loss: 0.5631 - val_acc: 0.8631\n",
            "Epoch 5/20\n",
            "49/49 - 15s - loss: 0.0908 - acc: 0.9852 - val_loss: 0.5074 - val_acc: 0.8819\n",
            "Epoch 6/20\n",
            "49/49 - 15s - loss: 0.0020 - acc: 0.9998 - val_loss: 0.6872 - val_acc: 0.8780\n",
            "Epoch 7/20\n",
            "49/49 - 15s - loss: 2.0223e-04 - acc: 1.0000 - val_loss: 0.9177 - val_acc: 0.8798\n",
            "Epoch 8/20\n",
            "49/49 - 15s - loss: 0.1658 - acc: 0.9909 - val_loss: 0.6973 - val_acc: 0.8793\n",
            "Epoch 9/20\n",
            "49/49 - 15s - loss: 1.0170e-04 - acc: 1.0000 - val_loss: 0.8374 - val_acc: 0.8784\n",
            "Epoch 10/20\n",
            "49/49 - 15s - loss: 1.7172e-05 - acc: 1.0000 - val_loss: 0.9404 - val_acc: 0.8795\n",
            "Epoch 11/20\n",
            "49/49 - 15s - loss: 3.7275e-06 - acc: 1.0000 - val_loss: 1.1000 - val_acc: 0.8798\n",
            "Epoch 12/20\n",
            "49/49 - 15s - loss: 6.7954e-07 - acc: 1.0000 - val_loss: 1.2292 - val_acc: 0.8799\n",
            "Epoch 13/20\n",
            "49/49 - 15s - loss: 1.4555e-07 - acc: 1.0000 - val_loss: 1.3741 - val_acc: 0.8798\n",
            "Epoch 14/20\n",
            "49/49 - 15s - loss: 4.1903e-08 - acc: 1.0000 - val_loss: 1.4553 - val_acc: 0.8796\n",
            "Epoch 15/20\n",
            "49/49 - 15s - loss: 1.9975e-08 - acc: 1.0000 - val_loss: 1.5043 - val_acc: 0.8795\n",
            "Epoch 16/20\n",
            "49/49 - 15s - loss: 1.2985e-08 - acc: 1.0000 - val_loss: 1.5324 - val_acc: 0.8797\n",
            "Epoch 17/20\n",
            "49/49 - 15s - loss: 9.6496e-09 - acc: 1.0000 - val_loss: 1.5570 - val_acc: 0.8794\n",
            "Epoch 18/20\n",
            "49/49 - 15s - loss: 7.7028e-09 - acc: 1.0000 - val_loss: 1.5719 - val_acc: 0.8796\n",
            "Epoch 19/20\n",
            "49/49 - 15s - loss: 6.4306e-09 - acc: 1.0000 - val_loss: 1.5858 - val_acc: 0.8796\n",
            "Epoch 20/20\n",
            "49/49 - 16s - loss: 5.5179e-09 - acc: 1.0000 - val_loss: 1.5981 - val_acc: 0.8795\n"
          ],
          "name": "stdout"
        }
      ]
    },
    {
      "cell_type": "code",
      "metadata": {
        "id": "zDIOa3aDoUBh",
        "colab_type": "code",
        "colab": {
          "base_uri": "https://localhost:8080/",
          "height": 296
        },
        "outputId": "ac8d5fdd-2aa9-464d-a5f0-06cfbbb7385c"
      },
      "source": [
        "bigger_val_loss = bigger_model_hist.history['val_loss']\n",
        "plt.plot(epochs, original_val_loss, 'b+', label='Original')\n",
        "plt.plot(epochs, bigger_val_loss, 'bo', label='Bigger')\n",
        "plt.xlabel('Epochs')\n",
        "plt.ylabel('Validation Loss')\n",
        "plt.legend()"
      ],
      "execution_count": 15,
      "outputs": [
        {
          "output_type": "execute_result",
          "data": {
            "text/plain": [
              "<matplotlib.legend.Legend at 0x7ff7dd4a5b70>"
            ]
          },
          "metadata": {
            "tags": []
          },
          "execution_count": 15
        },
        {
          "output_type": "display_data",
          "data": {
            "image/png": "[encoded data removed]",
            "text/plain": [
              "<Figure size 432x288 with 1 Axes>"
            ]
          },
          "metadata": {
            "tags": [],
            "needs_background": "light"
          }
        }
      ]
    },
    {
      "cell_type": "code",
      "metadata": {
        "id": "kx9PhflEq6tO",
        "colab_type": "code",
        "colab": {}
      },
      "source": [
        "l2_model = models.Sequential()\n",
        "l2_model.add(layers.Dense(16, kernel_regularizer=regularizers.l2(0.001), \n",
        "                          activation='relu', input_shape=(10000,)))\n",
        "l2_model.add(layers.Dense(16, kernel_regularizer=regularizers.l2(0.001),\n",
        "                          activation='relu'))\n",
        "l2_model.add(layers.Dense(1, activation='sigmoid'))"
      ],
      "execution_count": 16,
      "outputs": []
    },
    {
      "cell_type": "code",
      "metadata": {
        "id": "sJzs2Il3resl",
        "colab_type": "code",
        "colab": {}
      },
      "source": [
        "l2_model.compile(optimizer='rmsprop',\n",
        "                 loss='binary_crossentropy',\n",
        "                 metrics=['acc'])"
      ],
      "execution_count": 17,
      "outputs": []
    },
    {
      "cell_type": "code",
      "metadata": {
        "id": "LEpPgyWRro2m",
        "colab_type": "code",
        "colab": {
          "base_uri": "https://localhost:8080/",
          "height": 709
        },
        "outputId": "04a414ba-dd23-44e0-f75a-e30f56e2499a"
      },
      "source": [
        "l2_model_hist = l2_model.fit(x_train, y_train, epochs=20,\n",
        "                             batch_size=512,\n",
        "                             validation_data=(x_test, y_test))"
      ],
      "execution_count": 18,
      "outputs": [
        {
          "output_type": "stream",
          "text": [
            "Epoch 1/20\n",
            "49/49 [==============================] - 4s 88ms/step - loss: 0.5074 - acc: 0.8012 - val_loss: 0.4151 - val_acc: 0.8532\n",
            "Epoch 2/20\n",
            "49/49 [==============================] - 2s 38ms/step - loss: 0.3113 - acc: 0.9062 - val_loss: 0.3330 - val_acc: 0.8886\n",
            "Epoch 3/20\n",
            "49/49 [==============================] - 2s 38ms/step - loss: 0.2687 - acc: 0.9211 - val_loss: 0.3396 - val_acc: 0.8828\n",
            "Epoch 4/20\n",
            "49/49 [==============================] - 2s 38ms/step - loss: 0.2473 - acc: 0.9288 - val_loss: 0.3385 - val_acc: 0.8848\n",
            "Epoch 5/20\n",
            "49/49 [==============================] - 2s 38ms/step - loss: 0.2359 - acc: 0.9342 - val_loss: 0.3576 - val_acc: 0.8778\n",
            "Epoch 6/20\n",
            "49/49 [==============================] - 2s 38ms/step - loss: 0.2272 - acc: 0.9368 - val_loss: 0.4157 - val_acc: 0.8593\n",
            "Epoch 7/20\n",
            "49/49 [==============================] - 2s 38ms/step - loss: 0.2167 - acc: 0.9425 - val_loss: 0.4778 - val_acc: 0.8412\n",
            "Epoch 8/20\n",
            "49/49 [==============================] - 2s 37ms/step - loss: 0.2143 - acc: 0.9418 - val_loss: 0.3836 - val_acc: 0.8731\n",
            "Epoch 9/20\n",
            "49/49 [==============================] - 2s 37ms/step - loss: 0.2105 - acc: 0.9432 - val_loss: 0.3925 - val_acc: 0.8714\n",
            "Epoch 10/20\n",
            "49/49 [==============================] - 2s 38ms/step - loss: 0.2089 - acc: 0.9444 - val_loss: 0.3829 - val_acc: 0.8745\n",
            "Epoch 11/20\n",
            "49/49 [==============================] - 2s 37ms/step - loss: 0.2014 - acc: 0.9483 - val_loss: 0.4196 - val_acc: 0.8644\n",
            "Epoch 12/20\n",
            "49/49 [==============================] - 2s 38ms/step - loss: 0.2047 - acc: 0.9447 - val_loss: 0.4156 - val_acc: 0.8668\n",
            "Epoch 13/20\n",
            "49/49 [==============================] - 2s 37ms/step - loss: 0.2000 - acc: 0.9482 - val_loss: 0.3976 - val_acc: 0.8721\n",
            "Epoch 14/20\n",
            "49/49 [==============================] - 2s 37ms/step - loss: 0.1930 - acc: 0.9514 - val_loss: 0.4389 - val_acc: 0.8616\n",
            "Epoch 15/20\n",
            "49/49 [==============================] - 2s 38ms/step - loss: 0.1917 - acc: 0.9502 - val_loss: 0.4643 - val_acc: 0.8558\n",
            "Epoch 16/20\n",
            "49/49 [==============================] - 2s 37ms/step - loss: 0.1900 - acc: 0.9512 - val_loss: 0.4126 - val_acc: 0.8697\n",
            "Epoch 17/20\n",
            "49/49 [==============================] - 2s 38ms/step - loss: 0.1879 - acc: 0.9516 - val_loss: 0.4181 - val_acc: 0.8682\n",
            "Epoch 18/20\n",
            "49/49 [==============================] - 2s 38ms/step - loss: 0.1879 - acc: 0.9516 - val_loss: 0.4238 - val_acc: 0.8682\n",
            "Epoch 19/20\n",
            "49/49 [==============================] - 2s 37ms/step - loss: 0.1846 - acc: 0.9542 - val_loss: 0.4219 - val_acc: 0.8699\n",
            "Epoch 20/20\n",
            "49/49 [==============================] - 2s 37ms/step - loss: 0.1797 - acc: 0.9563 - val_loss: 0.4712 - val_acc: 0.8574\n"
          ],
          "name": "stdout"
        }
      ]
    },
    {
      "cell_type": "code",
      "metadata": {
        "id": "fEAt5rOhr0-_",
        "colab_type": "code",
        "colab": {
          "base_uri": "https://localhost:8080/",
          "height": 298
        },
        "outputId": "ed3c77a5-9738-45bf-830c-c2f5fbd19566"
      },
      "source": [
        "l2_model_val_loss = l2_model_hist.history['val_loss']\n",
        "\n",
        "plt.plot(epochs, original_val_loss, 'b+', label='Original')\n",
        "plt.plot(epochs, l2_model_val_loss, 'bo', label='L2 Regularized')\n",
        "plt.xlabel('Epochs')\n",
        "plt.ylabel('Validation loss')\n",
        "plt.legend()"
      ],
      "execution_count": 19,
      "outputs": [
        {
          "output_type": "execute_result",
          "data": {
            "text/plain": [
              "<matplotlib.legend.Legend at 0x7ff7e0c57c50>"
            ]
          },
          "metadata": {
            "tags": []
          },
          "execution_count": 19
        },
        {
          "output_type": "display_data",
          "data": {
            "image/png": "[encoded data removed]",
            "text/plain": [
              "<Figure size 432x288 with 1 Axes>"
            ]
          },
          "metadata": {
            "tags": [],
            "needs_background": "light"
          }
        }
      ]
    },
    {
      "cell_type": "code",
      "metadata": {
        "id": "sczgYQkrsV1F",
        "colab_type": "code",
        "colab": {}
      },
      "source": [
        "dpt_model = models.Sequential()\n",
        "dpt_model.add(layers.Dense(16, activation='relu', input_shape=(10000,)))\n",
        "dpt_model.add(layers.Dropout(0.5))\n",
        "dpt_model.add(layers.Dense(16, activation='relu'))\n",
        "dpt_model.add(layers.Dropout(0.5))\n",
        "dpt_model.add(layers.Dense(1, activation='sigmoid'))\n",
        "\n",
        "dpt_model.compile(optimizer='rmsprop',\n",
        "                  loss='binary_crossentropy',\n",
        "                  metrics=['acc'])"
      ],
      "execution_count": 20,
      "outputs": []
    },
    {
      "cell_type": "code",
      "metadata": {
        "id": "7xvP8LCIyOBi",
        "colab_type": "code",
        "colab": {
          "base_uri": "https://localhost:8080/",
          "height": 689
        },
        "outputId": "cd5dc2e8-d9be-425c-e593-b00273bf1f95"
      },
      "source": [
        "dpt_model_hist = dpt_model.fit(x_train, y_train,\n",
        "                               epochs=20,\n",
        "                               batch_size=512,\n",
        "                               validation_data=(x_test, y_test),\n",
        "                               verbose=2)"
      ],
      "execution_count": 21,
      "outputs": [
        {
          "output_type": "stream",
          "text": [
            "Epoch 1/20\n",
            "49/49 - 6s - loss: 0.5698 - acc: 0.6996 - val_loss: 0.4132 - val_acc: 0.8645\n",
            "Epoch 2/20\n",
            "49/49 - 2s - loss: 0.4190 - acc: 0.8336 - val_loss: 0.3134 - val_acc: 0.8856\n",
            "Epoch 3/20\n",
            "49/49 - 2s - loss: 0.3383 - acc: 0.8742 - val_loss: 0.2851 - val_acc: 0.8892\n",
            "Epoch 4/20\n",
            "49/49 - 2s - loss: 0.2930 - acc: 0.8964 - val_loss: 0.2779 - val_acc: 0.8895\n",
            "Epoch 5/20\n",
            "49/49 - 2s - loss: 0.2546 - acc: 0.9104 - val_loss: 0.2916 - val_acc: 0.8850\n",
            "Epoch 6/20\n",
            "49/49 - 2s - loss: 0.2274 - acc: 0.9204 - val_loss: 0.2952 - val_acc: 0.8876\n",
            "Epoch 7/20\n",
            "49/49 - 2s - loss: 0.2092 - acc: 0.9274 - val_loss: 0.3254 - val_acc: 0.8829\n",
            "Epoch 8/20\n",
            "49/49 - 2s - loss: 0.1966 - acc: 0.9335 - val_loss: 0.3216 - val_acc: 0.8851\n",
            "Epoch 9/20\n",
            "49/49 - 2s - loss: 0.1782 - acc: 0.9400 - val_loss: 0.3526 - val_acc: 0.8839\n",
            "Epoch 10/20\n",
            "49/49 - 2s - loss: 0.1700 - acc: 0.9404 - val_loss: 0.3671 - val_acc: 0.8823\n",
            "Epoch 11/20\n",
            "49/49 - 2s - loss: 0.1572 - acc: 0.9448 - val_loss: 0.3822 - val_acc: 0.8801\n",
            "Epoch 12/20\n",
            "49/49 - 2s - loss: 0.1502 - acc: 0.9473 - val_loss: 0.4051 - val_acc: 0.8785\n",
            "Epoch 13/20\n",
            "49/49 - 2s - loss: 0.1419 - acc: 0.9494 - val_loss: 0.4363 - val_acc: 0.8792\n",
            "Epoch 14/20\n",
            "49/49 - 2s - loss: 0.1389 - acc: 0.9521 - val_loss: 0.4487 - val_acc: 0.8781\n",
            "Epoch 15/20\n",
            "49/49 - 2s - loss: 0.1361 - acc: 0.9530 - val_loss: 0.4594 - val_acc: 0.8754\n",
            "Epoch 16/20\n",
            "49/49 - 2s - loss: 0.1309 - acc: 0.9540 - val_loss: 0.4877 - val_acc: 0.8758\n",
            "Epoch 17/20\n",
            "49/49 - 2s - loss: 0.1289 - acc: 0.9553 - val_loss: 0.5424 - val_acc: 0.8760\n",
            "Epoch 18/20\n",
            "49/49 - 2s - loss: 0.1203 - acc: 0.9593 - val_loss: 0.5313 - val_acc: 0.8753\n",
            "Epoch 19/20\n",
            "49/49 - 2s - loss: 0.1213 - acc: 0.9579 - val_loss: 0.5640 - val_acc: 0.8726\n",
            "Epoch 20/20\n",
            "49/49 - 2s - loss: 0.1227 - acc: 0.9587 - val_loss: 0.5623 - val_acc: 0.8736\n"
          ],
          "name": "stdout"
        }
      ]
    },
    {
      "cell_type": "code",
      "metadata": {
        "id": "9Oza62ssyXrO",
        "colab_type": "code",
        "colab": {
          "base_uri": "https://localhost:8080/",
          "height": 297
        },
        "outputId": "ade16b0b-8f3d-449d-8647-a2acbb6763e4"
      },
      "source": [
        "dpt_model_val_loss = dpt_model_hist.history['val_loss']\n",
        "\n",
        "plt.plot(epochs, original_val_loss, 'b+', label='Original')\n",
        "plt.plot(epochs, dpt_model_val_loss, 'bo', label='Dropout')\n",
        "plt.xlabel(\"Epochs\")\n",
        "plt.ylabel(\"Validation loss\")\n",
        "plt.legend()"
      ],
      "execution_count": 22,
      "outputs": [
        {
          "output_type": "execute_result",
          "data": {
            "text/plain": [
              "<matplotlib.legend.Legend at 0x7ff7e0cd27f0>"
            ]
          },
          "metadata": {
            "tags": []
          },
          "execution_count": 22
        },
        {
          "output_type": "display_data",
          "data": {
            "image/png": "[encoded data removed]",
            "text/plain": [
              "<Figure size 432x288 with 1 Axes>"
            ]
          },
          "metadata": {
            "tags": [],
            "needs_background": "light"
          }
        }
      ]
    },
    {
      "cell_type": "code",
      "metadata": {
        "id": "NtkEcfMKyzgT",
        "colab_type": "code",
        "colab": {}
      },
      "source": [
        ""
      ],
      "execution_count": null,
      "outputs": []
    }
  ]
}