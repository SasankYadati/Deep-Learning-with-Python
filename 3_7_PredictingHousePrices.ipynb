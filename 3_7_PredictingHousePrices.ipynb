{
  "nbformat": 4,
  "nbformat_minor": 0,
  "metadata": {
    "colab": {
      "name": "3.7-PredictingHousePrices.ipynb",
      "provenance": [],
      "collapsed_sections": []
    },
    "kernelspec": {
      "name": "python3",
      "display_name": "Python 3"
    }
  },
  "cells": [
    {
      "cell_type": "code",
      "metadata": {
        "id": "_uw5BBEDVMaQ",
        "colab_type": "code",
        "colab": {}
      },
      "source": [
        "import keras\n",
        "from keras.datasets import boston_housing\n",
        "from keras import models, layers\n",
        "import numpy as np\n",
        "from keras import backend as K\n",
        "import matplotlib.pyplot as plt"
      ],
      "execution_count": 1,
      "outputs": []
    },
    {
      "cell_type": "code",
      "metadata": {
        "id": "l28MKHsvVjxS",
        "colab_type": "code",
        "colab": {}
      },
      "source": [
        "(train_data, train_targets), (test_data, test_targets) = boston_housing.load_data()"
      ],
      "execution_count": 2,
      "outputs": []
    },
    {
      "cell_type": "code",
      "metadata": {
        "id": "CoDkN6wkVr1z",
        "colab_type": "code",
        "colab": {
          "base_uri": "https://localhost:8080/",
          "height": 34
        },
        "outputId": "1a60c43f-7193-4622-db6b-b9f8f71aab92"
      },
      "source": [
        "print(train_data.shape, train_targets.shape)"
      ],
      "execution_count": 3,
      "outputs": [
        {
          "output_type": "stream",
          "text": [
            "(404, 13) (404,)\n"
          ],
          "name": "stdout"
        }
      ]
    },
    {
      "cell_type": "code",
      "metadata": {
        "id": "ZHGLStKYV2aQ",
        "colab_type": "code",
        "colab": {}
      },
      "source": [
        "# feature normalization\n",
        "mean = train_data.mean(axis=0)\n",
        "std = train_data.std(axis=0)\n",
        "\n",
        "train_data -= mean\n",
        "test_data -= mean\n",
        "\n",
        "train_data /= std\n",
        "test_data /= std"
      ],
      "execution_count": 4,
      "outputs": []
    },
    {
      "cell_type": "code",
      "metadata": {
        "id": "BWTtl1ahWcS8",
        "colab_type": "code",
        "colab": {}
      },
      "source": [
        "def build_model():\n",
        "  model = models.Sequential()\n",
        "  model.add(layers.Dense(48, activation='relu', input_shape=(train_data.shape[1],)))\n",
        "  model.add(layers.Dense(48, activation='relu'))\n",
        "  model.add(layers.Dense(1))\n",
        "  model.compile(optimizer='rmsprop', loss='mse', metrics=['mae'])\n",
        "  return model"
      ],
      "execution_count": 5,
      "outputs": []
    },
    {
      "cell_type": "code",
      "metadata": {
        "id": "HPkmcY_RW6Rb",
        "colab_type": "code",
        "colab": {
          "base_uri": "https://localhost:8080/",
          "height": 84
        },
        "outputId": "e7d8e95b-b54e-4111-933e-fd3ce76af084"
      },
      "source": [
        "# validation set is small, use k fold validation\n",
        "k = 4\n",
        "num_val = len(train_data) // k\n",
        "num_epochs = 100\n",
        "all_scores = []\n",
        "for fold in range(k):\n",
        "  print(\"Fold \", fold)\n",
        "  \n",
        "  start = fold*num_val\n",
        "  end = (fold+1)*num_val\n",
        "  \n",
        "  val_data = train_data[start:end]\n",
        "  val_targets = train_targets[start:end]\n",
        "\n",
        "  partial_train_data = np.concatenate([train_data[:start], train_data[end:]], axis=0)\n",
        "  partial_train_targets = np.concatenate([train_targets[:start], train_targets[end:]], axis=0)\n",
        "\n",
        "  model = build_model()\n",
        "  model.fit(partial_train_data, partial_train_targets, epochs=num_epochs, batch_size=8, verbose=0)\n",
        "  val_mse, val_mae = model.evaluate(val_data, val_targets, verbose=0)\n",
        "  all_scores.append(val_mae)"
      ],
      "execution_count": 6,
      "outputs": [
        {
          "output_type": "stream",
          "text": [
            "Fold  0\n",
            "Fold  1\n",
            "Fold  2\n",
            "Fold  3\n"
          ],
          "name": "stdout"
        }
      ]
    },
    {
      "cell_type": "code",
      "metadata": {
        "id": "_9WftUQfYOB9",
        "colab_type": "code",
        "colab": {
          "base_uri": "https://localhost:8080/",
          "height": 50
        },
        "outputId": "d88aed95-7066-4645-8fe7-c477e23bf34a"
      },
      "source": [
        "print(all_scores)\n",
        "print(np.mean(all_scores))"
      ],
      "execution_count": 7,
      "outputs": [
        {
          "output_type": "stream",
          "text": [
            "[1.879201889038086, 2.4923338890075684, 2.4668023586273193, 2.4709203243255615]\n",
            "2.327314615249634\n"
          ],
          "name": "stdout"
        }
      ]
    },
    {
      "cell_type": "code",
      "metadata": {
        "id": "uy7J6lzlYT3C",
        "colab_type": "code",
        "colab": {
          "base_uri": "https://localhost:8080/",
          "height": 84
        },
        "outputId": "e4977055-02f8-4924-be1f-c278f977a0bf"
      },
      "source": [
        "num_epochs = 500\n",
        "all_mae_histories = []\n",
        "for fold in range(k):\n",
        "  print('Fold ', fold)\n",
        "  start = fold*num_val\n",
        "  end = (fold+1)*num_val\n",
        "  \n",
        "  val_data = train_data[start:end]\n",
        "  val_targets = train_targets[start:end]\n",
        "\n",
        "  partial_train_data = np.concatenate([train_data[:start], train_data[end:]], axis=0)\n",
        "  partial_train_targets = np.concatenate([train_targets[:start], train_targets[end:]], axis=0)\n",
        "\n",
        "  model = build_model()\n",
        "  history = model.fit(partial_train_data, partial_train_targets, \n",
        "                      validation_data=(val_data, val_targets),\n",
        "                      epochs=num_epochs, batch_size=8, verbose=0)\n",
        "  mae_history = history.history['val_mae']\n",
        "  all_mae_histories.append(mae_history)"
      ],
      "execution_count": 8,
      "outputs": [
        {
          "output_type": "stream",
          "text": [
            "Fold  0\n",
            "Fold  1\n",
            "Fold  2\n",
            "Fold  3\n"
          ],
          "name": "stdout"
        }
      ]
    },
    {
      "cell_type": "code",
      "metadata": {
        "id": "EHtM5DyRZNUE",
        "colab_type": "code",
        "colab": {}
      },
      "source": [
        "average_mae_history = [np.mean([mae_fold[epoch] for mae_fold in all_mae_histories]) for epoch in range(num_epochs)]"
      ],
      "execution_count": 9,
      "outputs": []
    },
    {
      "cell_type": "code",
      "metadata": {
        "id": "qpjpiOa1aALR",
        "colab_type": "code",
        "colab": {
          "base_uri": "https://localhost:8080/",
          "height": 282
        },
        "outputId": "ea85d0ec-d4b5-499a-a4f5-de4c98d3ecbe"
      },
      "source": [
        "plt.plot(range(1, len(average_mae_history) + 1), average_mae_history)"
      ],
      "execution_count": 10,
      "outputs": [
        {
          "output_type": "execute_result",
          "data": {
            "text/plain": [
              "[<matplotlib.lines.Line2D at 0x7f2078699128>]"
            ]
          },
          "metadata": {
            "tags": []
          },
          "execution_count": 10
        },
        {
          "output_type": "display_data",
          "data": {
            "image/png": "[encoded data removed]",
            "text/plain": [
              "<Figure size 432x288 with 1 Axes>"
            ]
          },
          "metadata": {
            "tags": [],
            "needs_background": "light"
          }
        }
      ]
    },
    {
      "cell_type": "code",
      "metadata": {
        "id": "j6wdbs1IaG2z",
        "colab_type": "code",
        "colab": {
          "base_uri": "https://localhost:8080/",
          "height": 285
        },
        "outputId": "09663a5c-3fde-43f6-9f22-7efe0efb5558"
      },
      "source": [
        "def smooth_data(points, factor=0.9):\n",
        "  smooth_points = []\n",
        "  for point in points:\n",
        "    if smooth_points:\n",
        "      previous = smooth_points[-1]\n",
        "      smooth_points.append(previous * factor + point * (1 - factor))\n",
        "    else:\n",
        "      smooth_points.append(point)\n",
        "  return smooth_points\n",
        "\n",
        "smooth_mae_history = smooth_data(average_mae_history[10:])\n",
        "plt.plot(range(1, len(smooth_mae_history) + 1), smooth_mae_history)"
      ],
      "execution_count": 14,
      "outputs": [
        {
          "output_type": "execute_result",
          "data": {
            "text/plain": [
              "[<matplotlib.lines.Line2D at 0x7f208275c390>]"
            ]
          },
          "metadata": {
            "tags": []
          },
          "execution_count": 14
        },
        {
          "output_type": "display_data",
          "data": {
            "image/png": "[encoded data removed]",
            "text/plain": [
              "<Figure size 432x288 with 1 Axes>"
            ]
          },
          "metadata": {
            "tags": [],
            "needs_background": "light"
          }
        }
      ]
    },
    {
      "cell_type": "code",
      "metadata": {
        "id": "QQDfFw-R8a4D",
        "colab_type": "code",
        "colab": {
          "base_uri": "https://localhost:8080/",
          "height": 50
        },
        "outputId": "53b0eb6d-6930-4ab3-d00b-669130e41cae"
      },
      "source": [
        "model = build_model()\n",
        "model.fit(train_data, train_targets,\n",
        "          epochs=100, batch_size=8, verbose=0)\n",
        "test_mse, test_mae = model.evaluate(test_data, test_targets)\n",
        "print(test_mse, test_mae)"
      ],
      "execution_count": 15,
      "outputs": [
        {
          "output_type": "stream",
          "text": [
            "4/4 [==============================] - 0s 2ms/step - loss: 15.6851 - mae: 2.6130\n",
            "15.685097694396973 2.613046407699585\n"
          ],
          "name": "stdout"
        }
      ]
    },
    {
      "cell_type": "code",
      "metadata": {
        "id": "d3jZ_tzI8_v7",
        "colab_type": "code",
        "colab": {}
      },
      "source": [
        ""
      ],
      "execution_count": null,
      "outputs": []
    }
  ]
}