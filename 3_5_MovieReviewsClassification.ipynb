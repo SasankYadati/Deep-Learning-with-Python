{
  "nbformat": 4,
  "nbformat_minor": 0,
  "metadata": {
    "colab": {
      "name": "3.5-MovieReviewsClassification.ipynb",
      "provenance": [],
      "collapsed_sections": []
    },
    "kernelspec": {
      "name": "python3",
      "display_name": "Python 3"
    }
  },
  "cells": [
    {
      "cell_type": "code",
      "metadata": {
        "id": "mxbQ3MtoGuo1",
        "colab_type": "code",
        "colab": {}
      },
      "source": [
        "import keras\n",
        "from keras.datasets import imdb\n",
        "from keras import models, layers, optimizers, losses, metrics\n",
        "import numpy as np\n",
        "import matplotlib.pyplot as plt"
      ],
      "execution_count": 1,
      "outputs": []
    },
    {
      "cell_type": "code",
      "metadata": {
        "id": "X9fo7gt8buJI",
        "colab_type": "code",
        "colab": {}
      },
      "source": [
        "(train_data, train_labels), (test_data, test_labels) = imdb.load_data(num_words=10000)"
      ],
      "execution_count": 2,
      "outputs": []
    },
    {
      "cell_type": "code",
      "metadata": {
        "id": "5B0WUwkNb5dS",
        "colab_type": "code",
        "colab": {}
      },
      "source": [
        "assert max([max(seq) for seq in train_data]) == 9999"
      ],
      "execution_count": 3,
      "outputs": []
    },
    {
      "cell_type": "code",
      "metadata": {
        "id": "DWhetZo1cHdt",
        "colab_type": "code",
        "colab": {}
      },
      "source": [
        "def decodeReview(sample_index):\n",
        "  word_index = imdb.get_word_index()\n",
        "  reverse_word_index = dict([(value, key) for (key, value) in word_index.items()])\n",
        "  # reserved::= 0-padding, 1-start of seq, 2-unknown\n",
        "  decoded_review = ' '.join([reverse_word_index.get(i-3, '?') for i in train_data[sample_index]])\n",
        "  return decoded_review"
      ],
      "execution_count": 4,
      "outputs": []
    },
    {
      "cell_type": "code",
      "metadata": {
        "id": "-opmde4-cs7Z",
        "colab_type": "code",
        "colab": {
          "base_uri": "https://localhost:8080/",
          "height": 54
        },
        "outputId": "2259b5f7-0037-4b12-831a-98c4f6714d2d"
      },
      "source": [
        "print(decodeReview(10)) # sanity check"
      ],
      "execution_count": 5,
      "outputs": [
        {
          "output_type": "stream",
          "text": [
            "? french horror cinema has seen something of a revival over the last couple of years with great films such as inside and ? romance ? on to the scene ? ? the revival just slightly but stands head and shoulders over most modern horror titles and is surely one of the best french horror films ever made ? was obviously shot on a low budget but this is made up for in far more ways than one by the originality of the film and this in turn is ? by the excellent writing and acting that ensure the film is a winner the plot focuses on two main ideas prison and black magic the central character is a man named ? sent to prison for fraud he is put in a cell with three others the quietly insane ? body building ? marcus and his retarded boyfriend daisy after a short while in the cell together they stumble upon a hiding place in the wall that contains an old ? after ? part of it they soon realise its magical powers and realise they may be able to use it to break through the prison walls br br black magic is a very interesting topic and i'm actually quite surprised that there aren't more films based on it as there's so much scope for things to do with it it's fair to say that ? makes the best of it's ? as despite it's ? the film never actually feels restrained and manages to flow well throughout director eric ? provides a great atmosphere for the film the fact that most of it takes place inside the central prison cell ? that the film feels very claustrophobic and this immensely benefits the central idea of the prisoners wanting to use magic to break out of the cell it's very easy to get behind them it's often said that the unknown is the thing that really ? people and this film proves that as the director ? that we can never really be sure of exactly what is round the corner and this helps to ensure that ? actually does manage to be quite frightening the film is memorable for a lot of reasons outside the central plot the characters are all very interesting in their own way and the fact that the book itself almost takes on its own character is very well done anyone worried that the film won't deliver by the end won't be disappointed either as the ending both makes sense and manages to be quite horrifying overall ? is a truly great horror film and one of the best of the decade highly recommended viewing\n"
          ],
          "name": "stdout"
        }
      ]
    },
    {
      "cell_type": "code",
      "metadata": {
        "id": "KbdtDnMvcubs",
        "colab_type": "code",
        "colab": {}
      },
      "source": [
        "def vectorizeSequences(sequences, dim=10000):\n",
        "  vec_seq = np.zeros((len(sequences), dim))\n",
        "  for i,seq in enumerate(sequences):\n",
        "    vec_seq[i][seq] = 1.\n",
        "  return vec_seq"
      ],
      "execution_count": 6,
      "outputs": []
    },
    {
      "cell_type": "code",
      "metadata": {
        "id": "KKuuvdfLdEUh",
        "colab_type": "code",
        "colab": {}
      },
      "source": [
        "x_train = vectorizeSequences(train_data)\n",
        "x_test = vectorizeSequences(test_data)"
      ],
      "execution_count": 7,
      "outputs": []
    },
    {
      "cell_type": "code",
      "metadata": {
        "id": "sDR4Fyy1eKzV",
        "colab_type": "code",
        "colab": {}
      },
      "source": [
        "y_train = np.asarray(train_labels).astype('float32')\n",
        "y_test = np.asarray(test_labels).astype('float32')"
      ],
      "execution_count": 8,
      "outputs": []
    },
    {
      "cell_type": "code",
      "metadata": {
        "id": "KsCfObcDeiue",
        "colab_type": "code",
        "colab": {}
      },
      "source": [
        "model = models.Sequential()\n",
        "model.add(layers.Dense(8, activation='relu', input_shape=(10000,)))\n",
        "model.add(layers.Dense(8, activation='relu'))\n",
        "model.add(layers.Dense(1, activation='sigmoid'))"
      ],
      "execution_count": 14,
      "outputs": []
    },
    {
      "cell_type": "code",
      "metadata": {
        "id": "kWk7oZr8fC14",
        "colab_type": "code",
        "colab": {}
      },
      "source": [
        "model.compile(optimizer=optimizers.RMSprop(lr=0.0001),\n",
        "              loss=losses.binary_crossentropy,\n",
        "              metrics=[metrics.binary_accuracy])"
      ],
      "execution_count": 15,
      "outputs": []
    },
    {
      "cell_type": "code",
      "metadata": {
        "id": "HS-R00-8fLko",
        "colab_type": "code",
        "colab": {}
      },
      "source": [
        "split = 10000\n",
        "x_val = x_train[:split]\n",
        "partial_x_train = x_train[split:]\n",
        "y_val = y_train[:split]\n",
        "partial_y_train = y_train[split:]"
      ],
      "execution_count": 16,
      "outputs": []
    },
    {
      "cell_type": "code",
      "metadata": {
        "id": "PZ_6lEx8gaQc",
        "colab_type": "code",
        "colab": {
          "base_uri": "https://localhost:8080/",
          "height": 1000
        },
        "outputId": "6fb23e9f-90e3-45aa-dba7-7702218b393b"
      },
      "source": [
        "history = model.fit(partial_x_train,\n",
        "                    partial_y_train,\n",
        "                    epochs=50,\n",
        "                    batch_size=512,\n",
        "                    validation_data=(x_val, y_val))"
      ],
      "execution_count": 17,
      "outputs": [
        {
          "output_type": "stream",
          "text": [
            "Epoch 1/50\n",
            "30/30 [==============================] - 1s 44ms/step - loss: 0.6885 - binary_accuracy: 0.5059 - val_loss: 0.6780 - val_binary_accuracy: 0.5313\n",
            "Epoch 2/50\n",
            "30/30 [==============================] - 1s 32ms/step - loss: 0.6668 - binary_accuracy: 0.5277 - val_loss: 0.6546 - val_binary_accuracy: 0.5513\n",
            "Epoch 3/50\n",
            "30/30 [==============================] - 1s 33ms/step - loss: 0.6407 - binary_accuracy: 0.5986 - val_loss: 0.6298 - val_binary_accuracy: 0.6574\n",
            "Epoch 4/50\n",
            "30/30 [==============================] - 1s 33ms/step - loss: 0.6128 - binary_accuracy: 0.6943 - val_loss: 0.6057 - val_binary_accuracy: 0.7219\n",
            "Epoch 5/50\n",
            "30/30 [==============================] - 1s 33ms/step - loss: 0.5864 - binary_accuracy: 0.7498 - val_loss: 0.5827 - val_binary_accuracy: 0.7579\n",
            "Epoch 6/50\n",
            "30/30 [==============================] - 1s 33ms/step - loss: 0.5613 - binary_accuracy: 0.7920 - val_loss: 0.5608 - val_binary_accuracy: 0.7937\n",
            "Epoch 7/50\n",
            "30/30 [==============================] - 1s 32ms/step - loss: 0.5369 - binary_accuracy: 0.8243 - val_loss: 0.5394 - val_binary_accuracy: 0.8152\n",
            "Epoch 8/50\n",
            "30/30 [==============================] - 1s 33ms/step - loss: 0.5133 - binary_accuracy: 0.8440 - val_loss: 0.5191 - val_binary_accuracy: 0.8309\n",
            "Epoch 9/50\n",
            "30/30 [==============================] - 1s 33ms/step - loss: 0.4904 - binary_accuracy: 0.8606 - val_loss: 0.4991 - val_binary_accuracy: 0.8390\n",
            "Epoch 10/50\n",
            "30/30 [==============================] - 1s 33ms/step - loss: 0.4684 - binary_accuracy: 0.8724 - val_loss: 0.4804 - val_binary_accuracy: 0.8533\n",
            "Epoch 11/50\n",
            "30/30 [==============================] - 1s 33ms/step - loss: 0.4474 - binary_accuracy: 0.8806 - val_loss: 0.4625 - val_binary_accuracy: 0.8569\n",
            "Epoch 12/50\n",
            "30/30 [==============================] - 1s 33ms/step - loss: 0.4274 - binary_accuracy: 0.8873 - val_loss: 0.4458 - val_binary_accuracy: 0.8598\n",
            "Epoch 13/50\n",
            "30/30 [==============================] - 1s 33ms/step - loss: 0.4084 - binary_accuracy: 0.8924 - val_loss: 0.4301 - val_binary_accuracy: 0.8670\n",
            "Epoch 14/50\n",
            "30/30 [==============================] - 1s 32ms/step - loss: 0.3906 - binary_accuracy: 0.8965 - val_loss: 0.4153 - val_binary_accuracy: 0.8686\n",
            "Epoch 15/50\n",
            "30/30 [==============================] - 1s 33ms/step - loss: 0.3740 - binary_accuracy: 0.9001 - val_loss: 0.4020 - val_binary_accuracy: 0.8703\n",
            "Epoch 16/50\n",
            "30/30 [==============================] - 1s 33ms/step - loss: 0.3583 - binary_accuracy: 0.9038 - val_loss: 0.3896 - val_binary_accuracy: 0.8724\n",
            "Epoch 17/50\n",
            "30/30 [==============================] - 1s 33ms/step - loss: 0.3436 - binary_accuracy: 0.9076 - val_loss: 0.3780 - val_binary_accuracy: 0.8746\n",
            "Epoch 18/50\n",
            "30/30 [==============================] - 1s 33ms/step - loss: 0.3300 - binary_accuracy: 0.9104 - val_loss: 0.3675 - val_binary_accuracy: 0.8759\n",
            "Epoch 19/50\n",
            "30/30 [==============================] - 1s 33ms/step - loss: 0.3172 - binary_accuracy: 0.9129 - val_loss: 0.3576 - val_binary_accuracy: 0.8775\n",
            "Epoch 20/50\n",
            "30/30 [==============================] - 1s 33ms/step - loss: 0.3052 - binary_accuracy: 0.9158 - val_loss: 0.3490 - val_binary_accuracy: 0.8784\n",
            "Epoch 21/50\n",
            "30/30 [==============================] - 1s 33ms/step - loss: 0.2940 - binary_accuracy: 0.9189 - val_loss: 0.3406 - val_binary_accuracy: 0.8821\n",
            "Epoch 22/50\n",
            "30/30 [==============================] - 1s 33ms/step - loss: 0.2835 - binary_accuracy: 0.9215 - val_loss: 0.3332 - val_binary_accuracy: 0.8838\n",
            "Epoch 23/50\n",
            "30/30 [==============================] - 1s 33ms/step - loss: 0.2738 - binary_accuracy: 0.9245 - val_loss: 0.3268 - val_binary_accuracy: 0.8840\n",
            "Epoch 24/50\n",
            "30/30 [==============================] - 1s 34ms/step - loss: 0.2649 - binary_accuracy: 0.9259 - val_loss: 0.3208 - val_binary_accuracy: 0.8850\n",
            "Epoch 25/50\n",
            "30/30 [==============================] - 1s 33ms/step - loss: 0.2565 - binary_accuracy: 0.9281 - val_loss: 0.3154 - val_binary_accuracy: 0.8861\n",
            "Epoch 26/50\n",
            "30/30 [==============================] - 1s 33ms/step - loss: 0.2487 - binary_accuracy: 0.9297 - val_loss: 0.3105 - val_binary_accuracy: 0.8862\n",
            "Epoch 27/50\n",
            "30/30 [==============================] - 1s 33ms/step - loss: 0.2412 - binary_accuracy: 0.9320 - val_loss: 0.3058 - val_binary_accuracy: 0.8872\n",
            "Epoch 28/50\n",
            "30/30 [==============================] - 1s 33ms/step - loss: 0.2343 - binary_accuracy: 0.9332 - val_loss: 0.3021 - val_binary_accuracy: 0.8875\n",
            "Epoch 29/50\n",
            "30/30 [==============================] - 1s 33ms/step - loss: 0.2277 - binary_accuracy: 0.9347 - val_loss: 0.2983 - val_binary_accuracy: 0.8881\n",
            "Epoch 30/50\n",
            "30/30 [==============================] - 1s 33ms/step - loss: 0.2215 - binary_accuracy: 0.9369 - val_loss: 0.2950 - val_binary_accuracy: 0.8881\n",
            "Epoch 31/50\n",
            "30/30 [==============================] - 1s 34ms/step - loss: 0.2158 - binary_accuracy: 0.9393 - val_loss: 0.2921 - val_binary_accuracy: 0.8889\n",
            "Epoch 32/50\n",
            "30/30 [==============================] - 1s 33ms/step - loss: 0.2101 - binary_accuracy: 0.9403 - val_loss: 0.2897 - val_binary_accuracy: 0.8883\n",
            "Epoch 33/50\n",
            "30/30 [==============================] - 1s 33ms/step - loss: 0.2050 - binary_accuracy: 0.9419 - val_loss: 0.2870 - val_binary_accuracy: 0.8882\n",
            "Epoch 34/50\n",
            "30/30 [==============================] - 1s 33ms/step - loss: 0.1999 - binary_accuracy: 0.9432 - val_loss: 0.2854 - val_binary_accuracy: 0.8888\n",
            "Epoch 35/50\n",
            "30/30 [==============================] - 1s 33ms/step - loss: 0.1953 - binary_accuracy: 0.9447 - val_loss: 0.2832 - val_binary_accuracy: 0.8888\n",
            "Epoch 36/50\n",
            "30/30 [==============================] - 1s 33ms/step - loss: 0.1907 - binary_accuracy: 0.9469 - val_loss: 0.2812 - val_binary_accuracy: 0.8884\n",
            "Epoch 37/50\n",
            "30/30 [==============================] - 1s 33ms/step - loss: 0.1862 - binary_accuracy: 0.9477 - val_loss: 0.2796 - val_binary_accuracy: 0.8885\n",
            "Epoch 38/50\n",
            "30/30 [==============================] - 1s 33ms/step - loss: 0.1820 - binary_accuracy: 0.9486 - val_loss: 0.2782 - val_binary_accuracy: 0.8884\n",
            "Epoch 39/50\n",
            "30/30 [==============================] - 1s 33ms/step - loss: 0.1778 - binary_accuracy: 0.9499 - val_loss: 0.2771 - val_binary_accuracy: 0.8881\n",
            "Epoch 40/50\n",
            "30/30 [==============================] - 1s 33ms/step - loss: 0.1740 - binary_accuracy: 0.9514 - val_loss: 0.2761 - val_binary_accuracy: 0.8877\n",
            "Epoch 41/50\n",
            "30/30 [==============================] - 1s 33ms/step - loss: 0.1702 - binary_accuracy: 0.9534 - val_loss: 0.2754 - val_binary_accuracy: 0.8880\n",
            "Epoch 42/50\n",
            "30/30 [==============================] - 1s 33ms/step - loss: 0.1666 - binary_accuracy: 0.9543 - val_loss: 0.2745 - val_binary_accuracy: 0.8894\n",
            "Epoch 43/50\n",
            "30/30 [==============================] - 1s 34ms/step - loss: 0.1630 - binary_accuracy: 0.9550 - val_loss: 0.2738 - val_binary_accuracy: 0.8892\n",
            "Epoch 44/50\n",
            "30/30 [==============================] - 1s 33ms/step - loss: 0.1596 - binary_accuracy: 0.9563 - val_loss: 0.2734 - val_binary_accuracy: 0.8890\n",
            "Epoch 45/50\n",
            "30/30 [==============================] - 1s 33ms/step - loss: 0.1563 - binary_accuracy: 0.9570 - val_loss: 0.2729 - val_binary_accuracy: 0.8891\n",
            "Epoch 46/50\n",
            "30/30 [==============================] - 1s 33ms/step - loss: 0.1530 - binary_accuracy: 0.9579 - val_loss: 0.2726 - val_binary_accuracy: 0.8897\n",
            "Epoch 47/50\n",
            "30/30 [==============================] - 1s 33ms/step - loss: 0.1498 - binary_accuracy: 0.9583 - val_loss: 0.2725 - val_binary_accuracy: 0.8896\n",
            "Epoch 48/50\n",
            "30/30 [==============================] - 1s 33ms/step - loss: 0.1468 - binary_accuracy: 0.9597 - val_loss: 0.2723 - val_binary_accuracy: 0.8898\n",
            "Epoch 49/50\n",
            "30/30 [==============================] - 1s 33ms/step - loss: 0.1438 - binary_accuracy: 0.9599 - val_loss: 0.2724 - val_binary_accuracy: 0.8893\n",
            "Epoch 50/50\n",
            "30/30 [==============================] - 1s 35ms/step - loss: 0.1409 - binary_accuracy: 0.9601 - val_loss: 0.2726 - val_binary_accuracy: 0.8893\n"
          ],
          "name": "stdout"
        }
      ]
    },
    {
      "cell_type": "code",
      "metadata": {
        "id": "lH129tPRglrS",
        "colab_type": "code",
        "colab": {
          "base_uri": "https://localhost:8080/",
          "height": 34
        },
        "outputId": "ee2c7bf8-5893-4654-bd75-3c41c2aaea47"
      },
      "source": [
        "hist = history.history\n",
        "print(hist.keys())"
      ],
      "execution_count": 18,
      "outputs": [
        {
          "output_type": "stream",
          "text": [
            "dict_keys(['loss', 'binary_accuracy', 'val_loss', 'val_binary_accuracy'])\n"
          ],
          "name": "stdout"
        }
      ]
    },
    {
      "cell_type": "code",
      "metadata": {
        "id": "Ik7EdR_iiHfP",
        "colab_type": "code",
        "colab": {
          "base_uri": "https://localhost:8080/",
          "height": 573
        },
        "outputId": "87ae8eee-6728-4498-e4b4-b9f17cf8db1d"
      },
      "source": [
        "def plotMetric(metric1, metric2, title, label1, label2, xlabel, ylabel ):\n",
        "  assert len(metric1) == len(metric2)\n",
        "  num_points = range(1, len(metric1)+1)\n",
        "  plt.plot(num_points, metric1, 'bo', label=label1)\n",
        "  plt.plot(num_points, metric2, 'b', label=label2)\n",
        "  plt.title(title)\n",
        "  plt.xlabel(xlabel)\n",
        "  plt.ylabel(ylabel)\n",
        "  plt.legend()\n",
        "  plt.show()\n",
        "\n",
        "acc = hist['binary_accuracy']\n",
        "val_acc = hist['val_binary_accuracy']\n",
        "loss = hist['loss']\n",
        "val_loss = hist['val_loss']\n",
        "plotMetric(acc, val_acc, 'Train vs Valid Acc', 'Training', 'Validation', 'Epochs', 'Accuracy')\n",
        "plotMetric(loss, val_loss, 'Train vs Valid Loss', 'Training', 'Validation', 'Epochs', 'Loss')"
      ],
      "execution_count": 21,
      "outputs": [
        {
          "output_type": "display_data",
          "data": {
            "image/png": "[encoded data removed]",
            "text/plain": [
              "<Figure size 432x288 with 1 Axes>"
            ]
          },
          "metadata": {
            "tags": [],
            "needs_background": "light"
          }
        },
        {
          "output_type": "display_data",
          "data": {
            "image/png": "[encoded data removed]",
            "text/plain": [
              "<Figure size 432x288 with 1 Axes>"
            ]
          },
          "metadata": {
            "tags": [],
            "needs_background": "light"
          }
        }
      ]
    },
    {
      "cell_type": "code",
      "metadata": {
        "id": "YHT4117qkfqH",
        "colab_type": "code",
        "colab": {}
      },
      "source": [
        ""
      ],
      "execution_count": null,
      "outputs": []
    }
  ]
}