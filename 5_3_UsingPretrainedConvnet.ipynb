{
  "nbformat": 4,
  "nbformat_minor": 0,
  "metadata": {
    "colab": {
      "name": "5.3-UsingPretrainedConvnet.ipynb",
      "provenance": [],
      "collapsed_sections": []
    },
    "kernelspec": {
      "name": "python3",
      "display_name": "Python 3"
    },
    "accelerator": "GPU"
  },
  "cells": [
    {
      "cell_type": "code",
      "metadata": {
        "id": "5bWAzqagwAtG",
        "colab_type": "code",
        "colab": {}
      },
      "source": [
        "import os\n",
        "import numpy as np\n",
        "from keras.applications import VGG16\n",
        "from keras.preprocessing.image import ImageDataGenerator\n",
        "from keras import models, layers, optimizers\n",
        "import matplotlib.pyplot as plt"
      ],
      "execution_count": 6,
      "outputs": []
    },
    {
      "cell_type": "code",
      "metadata": {
        "id": "7jSOPGwCyGhd",
        "colab_type": "code",
        "colab": {}
      },
      "source": [
        "conv_base = VGG16(weights='imagenet',\n",
        "                  include_top=False,\n",
        "                  input_shape=(150,150,3))"
      ],
      "execution_count": 7,
      "outputs": []
    },
    {
      "cell_type": "code",
      "metadata": {
        "id": "ONBc3v3z0mse",
        "colab_type": "code",
        "colab": {
          "base_uri": "https://localhost:8080/",
          "height": 790
        },
        "outputId": "9d1f8e8a-2e64-4248-ea92-b7152905ea75"
      },
      "source": [
        "conv_base.summary()"
      ],
      "execution_count": 8,
      "outputs": [
        {
          "output_type": "stream",
          "text": [
            "Model: \"vgg16\"\n",
            "_________________________________________________________________\n",
            "Layer (type)                 Output Shape              Param #   \n",
            "=================================================================\n",
            "input_2 (InputLayer)         [(None, 150, 150, 3)]     0         \n",
            "_________________________________________________________________\n",
            "block1_conv1 (Conv2D)        (None, 150, 150, 64)      1792      \n",
            "_________________________________________________________________\n",
            "block1_conv2 (Conv2D)        (None, 150, 150, 64)      36928     \n",
            "_________________________________________________________________\n",
            "block1_pool (MaxPooling2D)   (None, 75, 75, 64)        0         \n",
            "_________________________________________________________________\n",
            "block2_conv1 (Conv2D)        (None, 75, 75, 128)       73856     \n",
            "_________________________________________________________________\n",
            "block2_conv2 (Conv2D)        (None, 75, 75, 128)       147584    \n",
            "_________________________________________________________________\n",
            "block2_pool (MaxPooling2D)   (None, 37, 37, 128)       0         \n",
            "_________________________________________________________________\n",
            "block3_conv1 (Conv2D)        (None, 37, 37, 256)       295168    \n",
            "_________________________________________________________________\n",
            "block3_conv2 (Conv2D)        (None, 37, 37, 256)       590080    \n",
            "_________________________________________________________________\n",
            "block3_conv3 (Conv2D)        (None, 37, 37, 256)       590080    \n",
            "_________________________________________________________________\n",
            "block3_pool (MaxPooling2D)   (None, 18, 18, 256)       0         \n",
            "_________________________________________________________________\n",
            "block4_conv1 (Conv2D)        (None, 18, 18, 512)       1180160   \n",
            "_________________________________________________________________\n",
            "block4_conv2 (Conv2D)        (None, 18, 18, 512)       2359808   \n",
            "_________________________________________________________________\n",
            "block4_conv3 (Conv2D)        (None, 18, 18, 512)       2359808   \n",
            "_________________________________________________________________\n",
            "block4_pool (MaxPooling2D)   (None, 9, 9, 512)         0         \n",
            "_________________________________________________________________\n",
            "block5_conv1 (Conv2D)        (None, 9, 9, 512)         2359808   \n",
            "_________________________________________________________________\n",
            "block5_conv2 (Conv2D)        (None, 9, 9, 512)         2359808   \n",
            "_________________________________________________________________\n",
            "block5_conv3 (Conv2D)        (None, 9, 9, 512)         2359808   \n",
            "_________________________________________________________________\n",
            "block5_pool (MaxPooling2D)   (None, 4, 4, 512)         0         \n",
            "=================================================================\n",
            "Total params: 14,714,688\n",
            "Trainable params: 14,714,688\n",
            "Non-trainable params: 0\n",
            "_________________________________________________________________\n"
          ],
          "name": "stdout"
        }
      ]
    },
    {
      "cell_type": "code",
      "metadata": {
        "id": "OosaH6DR0pfl",
        "colab_type": "code",
        "colab": {
          "base_uri": "https://localhost:8080/",
          "height": 70
        },
        "outputId": "1dbeabce-d8fe-4442-f93c-01f02f2df096"
      },
      "source": [
        "from google.colab import drive\n",
        "drive.mount('/content/gdrive')\n",
        "%cd /content/gdrive/My Drive/Kaggle"
      ],
      "execution_count": 9,
      "outputs": [
        {
          "output_type": "stream",
          "text": [
            "Drive already mounted at /content/gdrive; to attempt to forcibly remount, call drive.mount(\"/content/gdrive\", force_remount=True).\n",
            "/content/gdrive/My Drive/Kaggle\n"
          ],
          "name": "stdout"
        }
      ]
    },
    {
      "cell_type": "code",
      "metadata": {
        "id": "TytLq77nR-X_",
        "colab_type": "code",
        "colab": {
          "base_uri": "https://localhost:8080/",
          "height": 67
        },
        "outputId": "5ca4b0a2-5c33-49d7-8a5b-0c69be0b08a2"
      },
      "source": [
        "base_dir = 'cats_and_dogs_small' \n",
        "\n",
        "train_dir = os.path.join(base_dir, 'train')\n",
        "validation_dir = os.path.join(base_dir, 'validation')\n",
        "test_dir = os.path.join(base_dir, 'test')\n",
        "\n",
        "datagen = ImageDataGenerator(rescale=1./255)\n",
        "batch_size = 20\n",
        "\n",
        "def extract_features(dir, sample_count):\n",
        "  features = np.zeros(shape=(sample_count, 4, 4, 512))\n",
        "  labels = np.zeros(shape=(sample_count))\n",
        "  generator = datagen.flow_from_directory(\n",
        "      dir,\n",
        "      target_size=(150,150),\n",
        "      batch_size=batch_size,\n",
        "      class_mode='binary'\n",
        "  )\n",
        "  i=0\n",
        "  for inputs_batch, labels_batch in generator:\n",
        "    features_batch = conv_base.predict(inputs_batch)\n",
        "    features[i*batch_size:(i+1)*batch_size] = features_batch\n",
        "    labels[i*batch_size:(i+1)*batch_size] = labels_batch\n",
        "    i+=1\n",
        "    if i*batch_size >= sample_count:\n",
        "      break\n",
        "  return features, labels\n",
        "\n",
        "train_featuures, train_labels = extract_features(train_dir, 2000)\n",
        "validation_features, validation_labels = extract_features(validation_dir, 1000)\n",
        "test_features, test_labels = extract_features(test_dir, 1000)"
      ],
      "execution_count": 14,
      "outputs": [
        {
          "output_type": "stream",
          "text": [
            "Found 2000 images belonging to 2 classes.\n",
            "Found 1000 images belonging to 2 classes.\n",
            "Found 1000 images belonging to 2 classes.\n"
          ],
          "name": "stdout"
        }
      ]
    },
    {
      "cell_type": "code",
      "metadata": {
        "id": "-Uvye1tK0tTz",
        "colab_type": "code",
        "colab": {}
      },
      "source": [
        "train_features = np.reshape(train_featuures, (2000, 4*4*512))\n",
        "validation_features = np.reshape(validation_features, (1000, 4*4*512))\n",
        "test_features = np.reshape(test_features, (1000, 4*4*512))"
      ],
      "execution_count": 16,
      "outputs": []
    },
    {
      "cell_type": "code",
      "metadata": {
        "id": "WeGeqtvm1qf1",
        "colab_type": "code",
        "colab": {
          "base_uri": "https://localhost:8080/",
          "height": 1000
        },
        "outputId": "d2a133f2-2e58-40b2-bc17-8542686b760d"
      },
      "source": [
        "model = models.Sequential()\n",
        "\n",
        "model.add(layers.Dense(256, activation='relu', input_dim=4*4*512))\n",
        "model.add(layers.Dropout(0.5))\n",
        "model.add(layers.Dense(1, activation='sigmoid'))\n",
        "\n",
        "model.compile(optimizer=optimizers.RMSprop(lr=2e-5),\n",
        "              loss='binary_crossentropy',\n",
        "              metrics=['acc'])\n",
        "\n",
        "history = model.fit(train_features, train_labels, epochs=30, batch_size=20, validation_data=(validation_features, validation_labels))"
      ],
      "execution_count": 17,
      "outputs": [
        {
          "output_type": "stream",
          "text": [
            "Epoch 1/30\n",
            "100/100 [==============================] - 0s 5ms/step - loss: 0.6199 - acc: 0.6505 - val_loss: 0.4623 - val_acc: 0.8220\n",
            "Epoch 2/30\n",
            "100/100 [==============================] - 0s 4ms/step - loss: 0.4418 - acc: 0.8040 - val_loss: 0.3772 - val_acc: 0.8490\n",
            "Epoch 3/30\n",
            "100/100 [==============================] - 0s 4ms/step - loss: 0.3563 - acc: 0.8595 - val_loss: 0.3339 - val_acc: 0.8720\n",
            "Epoch 4/30\n",
            "100/100 [==============================] - 0s 4ms/step - loss: 0.3175 - acc: 0.8680 - val_loss: 0.3098 - val_acc: 0.8750\n",
            "Epoch 5/30\n",
            "100/100 [==============================] - 0s 4ms/step - loss: 0.2946 - acc: 0.8805 - val_loss: 0.3050 - val_acc: 0.8820\n",
            "Epoch 6/30\n",
            "100/100 [==============================] - 0s 3ms/step - loss: 0.2695 - acc: 0.8980 - val_loss: 0.2781 - val_acc: 0.8880\n",
            "Epoch 7/30\n",
            "100/100 [==============================] - 0s 4ms/step - loss: 0.2498 - acc: 0.9035 - val_loss: 0.2696 - val_acc: 0.8960\n",
            "Epoch 8/30\n",
            "100/100 [==============================] - 0s 3ms/step - loss: 0.2336 - acc: 0.9120 - val_loss: 0.2626 - val_acc: 0.8950\n",
            "Epoch 9/30\n",
            "100/100 [==============================] - 0s 4ms/step - loss: 0.2240 - acc: 0.9180 - val_loss: 0.2574 - val_acc: 0.8980\n",
            "Epoch 10/30\n",
            "100/100 [==============================] - 0s 4ms/step - loss: 0.2114 - acc: 0.9215 - val_loss: 0.2515 - val_acc: 0.9040\n",
            "Epoch 11/30\n",
            "100/100 [==============================] - 0s 3ms/step - loss: 0.2108 - acc: 0.9235 - val_loss: 0.2557 - val_acc: 0.8950\n",
            "Epoch 12/30\n",
            "100/100 [==============================] - 0s 3ms/step - loss: 0.1910 - acc: 0.9305 - val_loss: 0.2459 - val_acc: 0.9050\n",
            "Epoch 13/30\n",
            "100/100 [==============================] - 0s 4ms/step - loss: 0.1811 - acc: 0.9365 - val_loss: 0.2467 - val_acc: 0.8990\n",
            "Epoch 14/30\n",
            "100/100 [==============================] - 0s 3ms/step - loss: 0.1772 - acc: 0.9375 - val_loss: 0.2410 - val_acc: 0.9040\n",
            "Epoch 15/30\n",
            "100/100 [==============================] - 0s 3ms/step - loss: 0.1712 - acc: 0.9365 - val_loss: 0.2400 - val_acc: 0.9040\n",
            "Epoch 16/30\n",
            "100/100 [==============================] - 0s 4ms/step - loss: 0.1595 - acc: 0.9450 - val_loss: 0.2504 - val_acc: 0.8960\n",
            "Epoch 17/30\n",
            "100/100 [==============================] - 0s 3ms/step - loss: 0.1533 - acc: 0.9495 - val_loss: 0.2400 - val_acc: 0.9040\n",
            "Epoch 18/30\n",
            "100/100 [==============================] - 0s 3ms/step - loss: 0.1502 - acc: 0.9450 - val_loss: 0.2386 - val_acc: 0.9010\n",
            "Epoch 19/30\n",
            "100/100 [==============================] - 0s 4ms/step - loss: 0.1480 - acc: 0.9465 - val_loss: 0.2400 - val_acc: 0.8990\n",
            "Epoch 20/30\n",
            "100/100 [==============================] - 0s 3ms/step - loss: 0.1353 - acc: 0.9555 - val_loss: 0.2467 - val_acc: 0.9000\n",
            "Epoch 21/30\n",
            "100/100 [==============================] - 0s 3ms/step - loss: 0.1342 - acc: 0.9540 - val_loss: 0.2383 - val_acc: 0.9020\n",
            "Epoch 22/30\n",
            "100/100 [==============================] - 0s 4ms/step - loss: 0.1241 - acc: 0.9585 - val_loss: 0.2390 - val_acc: 0.9050\n",
            "Epoch 23/30\n",
            "100/100 [==============================] - 0s 4ms/step - loss: 0.1273 - acc: 0.9535 - val_loss: 0.2356 - val_acc: 0.9090\n",
            "Epoch 24/30\n",
            "100/100 [==============================] - 0s 3ms/step - loss: 0.1177 - acc: 0.9610 - val_loss: 0.2402 - val_acc: 0.9010\n",
            "Epoch 25/30\n",
            "100/100 [==============================] - 0s 4ms/step - loss: 0.1183 - acc: 0.9610 - val_loss: 0.2417 - val_acc: 0.9010\n",
            "Epoch 26/30\n",
            "100/100 [==============================] - 0s 4ms/step - loss: 0.1060 - acc: 0.9630 - val_loss: 0.2360 - val_acc: 0.9080\n",
            "Epoch 27/30\n",
            "100/100 [==============================] - 0s 4ms/step - loss: 0.1068 - acc: 0.9625 - val_loss: 0.2355 - val_acc: 0.9090\n",
            "Epoch 28/30\n",
            "100/100 [==============================] - 0s 3ms/step - loss: 0.1022 - acc: 0.9700 - val_loss: 0.2368 - val_acc: 0.9040\n",
            "Epoch 29/30\n",
            "100/100 [==============================] - 0s 3ms/step - loss: 0.0973 - acc: 0.9700 - val_loss: 0.2416 - val_acc: 0.9050\n",
            "Epoch 30/30\n",
            "100/100 [==============================] - 0s 4ms/step - loss: 0.0898 - acc: 0.9740 - val_loss: 0.2425 - val_acc: 0.9060\n"
          ],
          "name": "stdout"
        }
      ]
    },
    {
      "cell_type": "code",
      "metadata": {
        "id": "9EGQvid32y-d",
        "colab_type": "code",
        "colab": {
          "base_uri": "https://localhost:8080/",
          "height": 545
        },
        "outputId": "ded9d61b-264e-442a-ed88-22807e6c5b2b"
      },
      "source": [
        "acc = history.history['acc']\n",
        "val_acc = history.history['val_acc']\n",
        "loss = history.history['loss']\n",
        "val_loss = history.history['val_loss']\n",
        "\n",
        "epochs = range(len(acc))\n",
        "\n",
        "plt.plot(epochs, acc, 'bo', label='Training acc')\n",
        "plt.plot(epochs, val_acc, 'b', label='Validation acc')\n",
        "plt.title('Training and validation acc')\n",
        "plt.legend()\n",
        "plt.figure()\n",
        "\n",
        "plt.plot(epochs, loss, 'bo', label='Training loss')\n",
        "plt.plot(epochs, val_acc, 'b', label='Validation loss')\n",
        "plt.title('Training and validation loss')\n",
        "plt.legend()\n",
        "plt.show()"
      ],
      "execution_count": 20,
      "outputs": [
        {
          "output_type": "display_data",
          "data": {
            "image/png": "[encoded data removed]",
            "text/plain": [
              "<Figure size 432x288 with 1 Axes>"
            ]
          },
          "metadata": {
            "tags": [],
            "needs_background": "light"
          }
        },
        {
          "output_type": "display_data",
          "data": {
            "image/png": "[encoded data removed]",
            "text/plain": [
              "<Figure size 432x288 with 1 Axes>"
            ]
          },
          "metadata": {
            "tags": [],
            "needs_background": "light"
          }
        }
      ]
    },
    {
      "cell_type": "code",
      "metadata": {
        "id": "6pH2TgTW59HI",
        "colab_type": "code",
        "colab": {
          "base_uri": "https://localhost:8080/",
          "height": 286
        },
        "outputId": "15ef37e4-cda0-44e1-9b54-f0c0f76081bc"
      },
      "source": [
        "model = models.Sequential()\n",
        "model.add(conv_base)\n",
        "model.add(layers.Flatten())\n",
        "model.add(layers.Dense(256, activation='relu'))\n",
        "model.add(layers.Dense(1, activation='sigmoid'))\n",
        "model.summary()"
      ],
      "execution_count": 21,
      "outputs": [
        {
          "output_type": "stream",
          "text": [
            "Model: \"sequential_1\"\n",
            "_________________________________________________________________\n",
            "Layer (type)                 Output Shape              Param #   \n",
            "=================================================================\n",
            "vgg16 (Functional)           (None, 4, 4, 512)         14714688  \n",
            "_________________________________________________________________\n",
            "flatten (Flatten)            (None, 8192)              0         \n",
            "_________________________________________________________________\n",
            "dense_2 (Dense)              (None, 256)               2097408   \n",
            "_________________________________________________________________\n",
            "dense_3 (Dense)              (None, 1)                 257       \n",
            "=================================================================\n",
            "Total params: 16,812,353\n",
            "Trainable params: 16,812,353\n",
            "Non-trainable params: 0\n",
            "_________________________________________________________________\n"
          ],
          "name": "stdout"
        }
      ]
    },
    {
      "cell_type": "code",
      "metadata": {
        "id": "mPVjqn6Z6i6r",
        "colab_type": "code",
        "colab": {
          "base_uri": "https://localhost:8080/",
          "height": 286
        },
        "outputId": "eba50077-9769-4ffc-9e80-4f560ebb615f"
      },
      "source": [
        "conv_base.trainable = False\n",
        "model.summary()"
      ],
      "execution_count": 24,
      "outputs": [
        {
          "output_type": "stream",
          "text": [
            "Model: \"sequential_1\"\n",
            "_________________________________________________________________\n",
            "Layer (type)                 Output Shape              Param #   \n",
            "=================================================================\n",
            "vgg16 (Functional)           (None, 4, 4, 512)         14714688  \n",
            "_________________________________________________________________\n",
            "flatten (Flatten)            (None, 8192)              0         \n",
            "_________________________________________________________________\n",
            "dense_2 (Dense)              (None, 256)               2097408   \n",
            "_________________________________________________________________\n",
            "dense_3 (Dense)              (None, 1)                 257       \n",
            "=================================================================\n",
            "Total params: 16,812,353\n",
            "Trainable params: 2,097,665\n",
            "Non-trainable params: 14,714,688\n",
            "_________________________________________________________________\n"
          ],
          "name": "stdout"
        }
      ]
    },
    {
      "cell_type": "code",
      "metadata": {
        "id": "KlsE6FXG6p6T",
        "colab_type": "code",
        "colab": {
          "base_uri": "https://localhost:8080/",
          "height": 1000
        },
        "outputId": "79e7013f-6ae4-46b1-b942-461c1c2a8cfa"
      },
      "source": [
        "train_datagen = ImageDataGenerator(\n",
        "    rescale=1./255,\n",
        "    rotation_range=40,\n",
        "    width_shift_range=0.2,\n",
        "    height_shift_range=0.2,\n",
        "    shear_range=0.2,\n",
        "    zoom_range=0.2,\n",
        "    horizontal_flip=True,\n",
        "    fill_mode='nearest'\n",
        ")\n",
        "\n",
        "test_datagen = ImageDataGenerator(\n",
        "    rescale=1./255\n",
        ")\n",
        "\n",
        "train_generator = train_datagen.flow_from_directory(\n",
        "    train_dir,\n",
        "    target_size=(150,150),\n",
        "    batch_size=20,\n",
        "    class_mode='binary'\n",
        ")\n",
        "\n",
        "validation_generator = test_datagen.flow_from_directory(\n",
        "    validation_dir,\n",
        "    target_size=(150,150),\n",
        "    batch_size=20,\n",
        "    class_mode='binary'\n",
        ")\n",
        "\n",
        "model.compile(loss='binary_crossentropy',\n",
        "              optimizer=optimizers.RMSprop(lr=2e-5),\n",
        "              metrics=['acc'])\n",
        "\n",
        "history = model.fit(train_generator,\n",
        "                    epochs=30,\n",
        "                    validation_data=validation_generator,\n",
        "                    verbose=2)"
      ],
      "execution_count": 26,
      "outputs": [
        {
          "output_type": "stream",
          "text": [
            "Found 2000 images belonging to 2 classes.\n",
            "Found 1000 images belonging to 2 classes.\n",
            "Epoch 1/30\n",
            "100/100 - 20s - loss: 0.5824 - acc: 0.7115 - val_loss: 0.4585 - val_acc: 0.8000\n",
            "Epoch 2/30\n",
            "100/100 - 20s - loss: 0.4739 - acc: 0.7930 - val_loss: 0.3648 - val_acc: 0.8640\n",
            "Epoch 3/30\n",
            "100/100 - 20s - loss: 0.4296 - acc: 0.8100 - val_loss: 0.3300 - val_acc: 0.8780\n",
            "Epoch 4/30\n",
            "100/100 - 20s - loss: 0.3990 - acc: 0.8290 - val_loss: 0.3146 - val_acc: 0.8810\n",
            "Epoch 5/30\n",
            "100/100 - 20s - loss: 0.3892 - acc: 0.8240 - val_loss: 0.2907 - val_acc: 0.8830\n",
            "Epoch 6/30\n",
            "100/100 - 20s - loss: 0.3616 - acc: 0.8480 - val_loss: 0.2910 - val_acc: 0.8800\n",
            "Epoch 7/30\n",
            "100/100 - 20s - loss: 0.3583 - acc: 0.8430 - val_loss: 0.2781 - val_acc: 0.8880\n",
            "Epoch 8/30\n",
            "100/100 - 20s - loss: 0.3531 - acc: 0.8430 - val_loss: 0.2761 - val_acc: 0.8860\n",
            "Epoch 9/30\n",
            "100/100 - 20s - loss: 0.3408 - acc: 0.8560 - val_loss: 0.2625 - val_acc: 0.8940\n",
            "Epoch 10/30\n",
            "100/100 - 20s - loss: 0.3241 - acc: 0.8630 - val_loss: 0.2578 - val_acc: 0.8970\n",
            "Epoch 11/30\n",
            "100/100 - 20s - loss: 0.3308 - acc: 0.8550 - val_loss: 0.2622 - val_acc: 0.8960\n",
            "Epoch 12/30\n",
            "100/100 - 20s - loss: 0.3274 - acc: 0.8580 - val_loss: 0.2549 - val_acc: 0.8940\n",
            "Epoch 13/30\n",
            "100/100 - 20s - loss: 0.3033 - acc: 0.8655 - val_loss: 0.2568 - val_acc: 0.8940\n",
            "Epoch 14/30\n",
            "100/100 - 20s - loss: 0.3196 - acc: 0.8595 - val_loss: 0.2455 - val_acc: 0.9010\n",
            "Epoch 15/30\n",
            "100/100 - 20s - loss: 0.3131 - acc: 0.8705 - val_loss: 0.2509 - val_acc: 0.8950\n",
            "Epoch 16/30\n",
            "100/100 - 20s - loss: 0.3149 - acc: 0.8585 - val_loss: 0.2453 - val_acc: 0.8950\n",
            "Epoch 17/30\n",
            "100/100 - 20s - loss: 0.3056 - acc: 0.8655 - val_loss: 0.2482 - val_acc: 0.8960\n",
            "Epoch 18/30\n",
            "100/100 - 20s - loss: 0.3141 - acc: 0.8665 - val_loss: 0.2498 - val_acc: 0.9020\n",
            "Epoch 19/30\n",
            "100/100 - 20s - loss: 0.3040 - acc: 0.8735 - val_loss: 0.2463 - val_acc: 0.8910\n",
            "Epoch 20/30\n",
            "100/100 - 20s - loss: 0.2925 - acc: 0.8745 - val_loss: 0.2436 - val_acc: 0.9030\n",
            "Epoch 21/30\n",
            "100/100 - 20s - loss: 0.2867 - acc: 0.8740 - val_loss: 0.2445 - val_acc: 0.8970\n",
            "Epoch 22/30\n",
            "100/100 - 20s - loss: 0.2974 - acc: 0.8675 - val_loss: 0.2437 - val_acc: 0.8990\n",
            "Epoch 23/30\n",
            "100/100 - 20s - loss: 0.2908 - acc: 0.8820 - val_loss: 0.2403 - val_acc: 0.9030\n",
            "Epoch 24/30\n",
            "100/100 - 20s - loss: 0.2894 - acc: 0.8735 - val_loss: 0.2436 - val_acc: 0.8990\n",
            "Epoch 25/30\n",
            "100/100 - 20s - loss: 0.2901 - acc: 0.8705 - val_loss: 0.2408 - val_acc: 0.8980\n",
            "Epoch 26/30\n",
            "100/100 - 20s - loss: 0.2898 - acc: 0.8735 - val_loss: 0.2393 - val_acc: 0.9000\n",
            "Epoch 27/30\n",
            "100/100 - 20s - loss: 0.2828 - acc: 0.8760 - val_loss: 0.2370 - val_acc: 0.9010\n",
            "Epoch 28/30\n",
            "100/100 - 20s - loss: 0.2871 - acc: 0.8815 - val_loss: 0.2376 - val_acc: 0.9030\n",
            "Epoch 29/30\n",
            "100/100 - 20s - loss: 0.2793 - acc: 0.8760 - val_loss: 0.2383 - val_acc: 0.8990\n",
            "Epoch 30/30\n",
            "100/100 - 20s - loss: 0.2879 - acc: 0.8750 - val_loss: 0.2367 - val_acc: 0.9000\n"
          ],
          "name": "stdout"
        }
      ]
    },
    {
      "cell_type": "code",
      "metadata": {
        "id": "eZqzlFSZ8O3K",
        "colab_type": "code",
        "colab": {}
      },
      "source": [
        "model.save('cats_and_dogs_small_3.h5')"
      ],
      "execution_count": 26,
      "outputs": []
    },
    {
      "cell_type": "code",
      "metadata": {
        "id": "4pQfemuI8SUC",
        "colab_type": "code",
        "colab": {
          "base_uri": "https://localhost:8080/",
          "height": 545
        },
        "outputId": "adfe6571-3f2f-44f8-e91d-f50a0833921f"
      },
      "source": [
        "acc = history.history['acc']\n",
        "val_acc = history.history['val_acc']\n",
        "loss = history.history['loss']\n",
        "val_loss = history.history['val_loss']\n",
        "\n",
        "epochs = range(len(acc))\n",
        "\n",
        "plt.plot(epochs, acc, 'bo', label='Training acc')\n",
        "plt.plot(epochs, val_acc, 'b', label='Validation acc')\n",
        "plt.title('Training and validation accuracy')\n",
        "plt.legend()\n",
        "\n",
        "plt.figure()\n",
        "\n",
        "plt.plot(epochs, loss, 'bo', label='Training loss')\n",
        "plt.plot(epochs, val_loss, 'b', label='Validation loss')\n",
        "plt.title('Training and validation loss')\n",
        "plt.legend()\n",
        "\n",
        "plt.show()"
      ],
      "execution_count": 27,
      "outputs": [
        {
          "output_type": "display_data",
          "data": {
            "image/png": "[encoded data removed]",
            "text/plain": [
              "<Figure size 432x288 with 1 Axes>"
            ]
          },
          "metadata": {
            "tags": [],
            "needs_background": "light"
          }
        },
        {
          "output_type": "display_data",
          "data": {
            "image/png": "[encoded data removed]",
            "text/plain": [
              "<Figure size 432x288 with 1 Axes>"
            ]
          },
          "metadata": {
            "tags": [],
            "needs_background": "light"
          }
        }
      ]
    },
    {
      "cell_type": "code",
      "metadata": {
        "id": "sacXhCAt_KMU",
        "colab_type": "code",
        "colab": {}
      },
      "source": [
        "conv_base.trainable = True\n",
        "isTrainable = False\n",
        "for layer in conv_base.layers:\n",
        "  if layer.name == 'block5_conv1':\n",
        "    isTrainable = True\n",
        "  layer.trainable = isTrainable"
      ],
      "execution_count": 28,
      "outputs": []
    },
    {
      "cell_type": "code",
      "metadata": {
        "id": "XyDOQd8p_erw",
        "colab_type": "code",
        "colab": {
          "base_uri": "https://localhost:8080/",
          "height": 1000
        },
        "outputId": "0b6f5903-edbe-45aa-cf48-1bb7824570b0"
      },
      "source": [
        "model.compile(loss='binary_crossentropy',\n",
        "              optimizer=optimizers.RMSprop(lr=1e-5),\n",
        "              metrics=['acc'])\n",
        "\n",
        "history = model.fit(train_generator,\n",
        "                    epochs=100,\n",
        "                    validation_data=validation_generator,\n",
        "                    verbose=2)"
      ],
      "execution_count": 29,
      "outputs": [
        {
          "output_type": "stream",
          "text": [
            "Epoch 1/100\n",
            "100/100 - 21s - loss: 0.2996 - acc: 0.8615 - val_loss: 0.2429 - val_acc: 0.9050\n",
            "Epoch 2/100\n",
            "100/100 - 21s - loss: 0.2656 - acc: 0.8825 - val_loss: 0.2051 - val_acc: 0.9100\n",
            "Epoch 3/100\n",
            "100/100 - 21s - loss: 0.2316 - acc: 0.9030 - val_loss: 0.2089 - val_acc: 0.9240\n",
            "Epoch 4/100\n",
            "100/100 - 21s - loss: 0.2328 - acc: 0.9015 - val_loss: 0.1883 - val_acc: 0.9290\n",
            "Epoch 5/100\n",
            "100/100 - 21s - loss: 0.2065 - acc: 0.9125 - val_loss: 0.1898 - val_acc: 0.9230\n",
            "Epoch 6/100\n",
            "100/100 - 21s - loss: 0.1865 - acc: 0.9205 - val_loss: 0.1862 - val_acc: 0.9280\n",
            "Epoch 7/100\n",
            "100/100 - 21s - loss: 0.1919 - acc: 0.9210 - val_loss: 0.2087 - val_acc: 0.9140\n",
            "Epoch 8/100\n",
            "100/100 - 21s - loss: 0.1871 - acc: 0.9265 - val_loss: 0.1916 - val_acc: 0.9290\n",
            "Epoch 9/100\n",
            "100/100 - 20s - loss: 0.1734 - acc: 0.9240 - val_loss: 0.2198 - val_acc: 0.9190\n",
            "Epoch 10/100\n",
            "100/100 - 21s - loss: 0.1723 - acc: 0.9280 - val_loss: 0.1801 - val_acc: 0.9300\n",
            "Epoch 11/100\n",
            "100/100 - 21s - loss: 0.1539 - acc: 0.9410 - val_loss: 0.1748 - val_acc: 0.9370\n",
            "Epoch 12/100\n",
            "100/100 - 21s - loss: 0.1355 - acc: 0.9495 - val_loss: 0.1943 - val_acc: 0.9330\n",
            "Epoch 13/100\n",
            "100/100 - 21s - loss: 0.1364 - acc: 0.9435 - val_loss: 0.1813 - val_acc: 0.9320\n",
            "Epoch 14/100\n",
            "100/100 - 21s - loss: 0.1449 - acc: 0.9405 - val_loss: 0.2057 - val_acc: 0.9300\n",
            "Epoch 15/100\n",
            "100/100 - 21s - loss: 0.1179 - acc: 0.9510 - val_loss: 0.2312 - val_acc: 0.9170\n",
            "Epoch 16/100\n",
            "100/100 - 21s - loss: 0.1166 - acc: 0.9510 - val_loss: 0.1812 - val_acc: 0.9400\n",
            "Epoch 17/100\n",
            "100/100 - 21s - loss: 0.1148 - acc: 0.9560 - val_loss: 0.1766 - val_acc: 0.9310\n",
            "Epoch 18/100\n",
            "100/100 - 21s - loss: 0.1085 - acc: 0.9590 - val_loss: 0.1873 - val_acc: 0.9340\n",
            "Epoch 19/100\n",
            "100/100 - 21s - loss: 0.0961 - acc: 0.9640 - val_loss: 0.1944 - val_acc: 0.9270\n",
            "Epoch 20/100\n",
            "100/100 - 21s - loss: 0.0964 - acc: 0.9640 - val_loss: 0.2067 - val_acc: 0.9290\n",
            "Epoch 21/100\n",
            "100/100 - 21s - loss: 0.0937 - acc: 0.9665 - val_loss: 0.1765 - val_acc: 0.9330\n",
            "Epoch 22/100\n",
            "100/100 - 21s - loss: 0.0860 - acc: 0.9675 - val_loss: 0.2150 - val_acc: 0.9280\n",
            "Epoch 23/100\n",
            "100/100 - 21s - loss: 0.0858 - acc: 0.9650 - val_loss: 0.1873 - val_acc: 0.9320\n",
            "Epoch 24/100\n",
            "100/100 - 21s - loss: 0.0832 - acc: 0.9680 - val_loss: 0.2008 - val_acc: 0.9310\n",
            "Epoch 25/100\n",
            "100/100 - 21s - loss: 0.0857 - acc: 0.9675 - val_loss: 0.2438 - val_acc: 0.9190\n",
            "Epoch 26/100\n",
            "100/100 - 21s - loss: 0.0908 - acc: 0.9655 - val_loss: 0.2119 - val_acc: 0.9310\n",
            "Epoch 27/100\n",
            "100/100 - 21s - loss: 0.0656 - acc: 0.9760 - val_loss: 0.1945 - val_acc: 0.9310\n",
            "Epoch 28/100\n",
            "100/100 - 21s - loss: 0.0720 - acc: 0.9700 - val_loss: 0.2022 - val_acc: 0.9310\n",
            "Epoch 29/100\n",
            "100/100 - 21s - loss: 0.0702 - acc: 0.9740 - val_loss: 0.2413 - val_acc: 0.9210\n",
            "Epoch 30/100\n",
            "100/100 - 21s - loss: 0.0673 - acc: 0.9770 - val_loss: 0.2269 - val_acc: 0.9310\n",
            "Epoch 31/100\n",
            "100/100 - 21s - loss: 0.0577 - acc: 0.9775 - val_loss: 0.1884 - val_acc: 0.9360\n",
            "Epoch 32/100\n",
            "100/100 - 21s - loss: 0.0719 - acc: 0.9745 - val_loss: 0.1989 - val_acc: 0.9370\n",
            "Epoch 33/100\n",
            "100/100 - 21s - loss: 0.0702 - acc: 0.9750 - val_loss: 0.2785 - val_acc: 0.9270\n",
            "Epoch 34/100\n",
            "100/100 - 21s - loss: 0.0516 - acc: 0.9800 - val_loss: 0.2023 - val_acc: 0.9380\n",
            "Epoch 35/100\n",
            "100/100 - 21s - loss: 0.0644 - acc: 0.9750 - val_loss: 0.1961 - val_acc: 0.9330\n",
            "Epoch 36/100\n",
            "100/100 - 21s - loss: 0.0625 - acc: 0.9760 - val_loss: 0.2086 - val_acc: 0.9360\n",
            "Epoch 37/100\n",
            "100/100 - 21s - loss: 0.0600 - acc: 0.9800 - val_loss: 0.2315 - val_acc: 0.9310\n",
            "Epoch 38/100\n",
            "100/100 - 21s - loss: 0.0599 - acc: 0.9745 - val_loss: 0.2653 - val_acc: 0.9250\n",
            "Epoch 39/100\n",
            "100/100 - 21s - loss: 0.0537 - acc: 0.9790 - val_loss: 0.2330 - val_acc: 0.9330\n",
            "Epoch 40/100\n",
            "100/100 - 21s - loss: 0.0511 - acc: 0.9805 - val_loss: 0.2028 - val_acc: 0.9340\n",
            "Epoch 41/100\n",
            "100/100 - 21s - loss: 0.0465 - acc: 0.9820 - val_loss: 0.2080 - val_acc: 0.9320\n",
            "Epoch 42/100\n",
            "100/100 - 21s - loss: 0.0439 - acc: 0.9830 - val_loss: 0.2105 - val_acc: 0.9420\n",
            "Epoch 43/100\n",
            "100/100 - 21s - loss: 0.0409 - acc: 0.9855 - val_loss: 0.2076 - val_acc: 0.9340\n",
            "Epoch 44/100\n",
            "100/100 - 21s - loss: 0.0384 - acc: 0.9880 - val_loss: 0.2559 - val_acc: 0.9290\n",
            "Epoch 45/100\n",
            "100/100 - 21s - loss: 0.0496 - acc: 0.9810 - val_loss: 0.2003 - val_acc: 0.9380\n",
            "Epoch 46/100\n",
            "100/100 - 21s - loss: 0.0435 - acc: 0.9860 - val_loss: 0.2282 - val_acc: 0.9340\n",
            "Epoch 47/100\n",
            "100/100 - 21s - loss: 0.0426 - acc: 0.9850 - val_loss: 0.2115 - val_acc: 0.9350\n",
            "Epoch 48/100\n",
            "100/100 - 21s - loss: 0.0382 - acc: 0.9865 - val_loss: 0.2351 - val_acc: 0.9340\n",
            "Epoch 49/100\n",
            "100/100 - 21s - loss: 0.0475 - acc: 0.9840 - val_loss: 0.2130 - val_acc: 0.9360\n",
            "Epoch 50/100\n",
            "100/100 - 21s - loss: 0.0428 - acc: 0.9850 - val_loss: 0.2151 - val_acc: 0.9330\n",
            "Epoch 51/100\n",
            "100/100 - 21s - loss: 0.0502 - acc: 0.9840 - val_loss: 0.2851 - val_acc: 0.9330\n",
            "Epoch 52/100\n",
            "100/100 - 21s - loss: 0.0285 - acc: 0.9890 - val_loss: 0.4396 - val_acc: 0.9060\n",
            "Epoch 53/100\n",
            "100/100 - 21s - loss: 0.0490 - acc: 0.9815 - val_loss: 0.2537 - val_acc: 0.9310\n",
            "Epoch 54/100\n",
            "100/100 - 21s - loss: 0.0322 - acc: 0.9890 - val_loss: 0.2182 - val_acc: 0.9330\n",
            "Epoch 55/100\n",
            "100/100 - 21s - loss: 0.0257 - acc: 0.9920 - val_loss: 0.2449 - val_acc: 0.9330\n",
            "Epoch 56/100\n",
            "100/100 - 21s - loss: 0.0422 - acc: 0.9845 - val_loss: 0.2437 - val_acc: 0.9380\n",
            "Epoch 57/100\n",
            "100/100 - 21s - loss: 0.0387 - acc: 0.9860 - val_loss: 0.2629 - val_acc: 0.9290\n",
            "Epoch 58/100\n",
            "100/100 - 21s - loss: 0.0285 - acc: 0.9905 - val_loss: 0.3921 - val_acc: 0.9200\n",
            "Epoch 59/100\n",
            "100/100 - 21s - loss: 0.0402 - acc: 0.9870 - val_loss: 0.2437 - val_acc: 0.9350\n",
            "Epoch 60/100\n",
            "100/100 - 21s - loss: 0.0335 - acc: 0.9875 - val_loss: 0.2710 - val_acc: 0.9380\n",
            "Epoch 61/100\n",
            "100/100 - 21s - loss: 0.0272 - acc: 0.9900 - val_loss: 0.2859 - val_acc: 0.9310\n",
            "Epoch 62/100\n",
            "100/100 - 21s - loss: 0.0320 - acc: 0.9855 - val_loss: 0.2842 - val_acc: 0.9390\n",
            "Epoch 63/100\n",
            "100/100 - 21s - loss: 0.0388 - acc: 0.9870 - val_loss: 0.2921 - val_acc: 0.9270\n",
            "Epoch 64/100\n",
            "100/100 - 21s - loss: 0.0265 - acc: 0.9900 - val_loss: 0.2529 - val_acc: 0.9420\n",
            "Epoch 65/100\n",
            "100/100 - 21s - loss: 0.0215 - acc: 0.9920 - val_loss: 0.2984 - val_acc: 0.9300\n",
            "Epoch 66/100\n",
            "100/100 - 21s - loss: 0.0313 - acc: 0.9890 - val_loss: 0.2676 - val_acc: 0.9360\n",
            "Epoch 67/100\n",
            "100/100 - 21s - loss: 0.0284 - acc: 0.9900 - val_loss: 0.2644 - val_acc: 0.9370\n",
            "Epoch 68/100\n",
            "100/100 - 21s - loss: 0.0274 - acc: 0.9910 - val_loss: 0.2318 - val_acc: 0.9410\n",
            "Epoch 69/100\n",
            "100/100 - 21s - loss: 0.0307 - acc: 0.9905 - val_loss: 0.2090 - val_acc: 0.9460\n",
            "Epoch 70/100\n",
            "100/100 - 21s - loss: 0.0203 - acc: 0.9930 - val_loss: 0.2583 - val_acc: 0.9370\n",
            "Epoch 71/100\n",
            "100/100 - 21s - loss: 0.0323 - acc: 0.9850 - val_loss: 0.2869 - val_acc: 0.9320\n",
            "Epoch 72/100\n",
            "100/100 - 21s - loss: 0.0222 - acc: 0.9925 - val_loss: 0.2330 - val_acc: 0.9430\n",
            "Epoch 73/100\n",
            "100/100 - 21s - loss: 0.0217 - acc: 0.9935 - val_loss: 0.2519 - val_acc: 0.9430\n",
            "Epoch 74/100\n",
            "100/100 - 21s - loss: 0.0220 - acc: 0.9905 - val_loss: 0.4110 - val_acc: 0.9240\n",
            "Epoch 75/100\n",
            "100/100 - 21s - loss: 0.0234 - acc: 0.9915 - val_loss: 0.2540 - val_acc: 0.9330\n",
            "Epoch 76/100\n",
            "100/100 - 21s - loss: 0.0243 - acc: 0.9900 - val_loss: 0.2976 - val_acc: 0.9350\n",
            "Epoch 77/100\n",
            "100/100 - 21s - loss: 0.0339 - acc: 0.9885 - val_loss: 0.2398 - val_acc: 0.9410\n",
            "Epoch 78/100\n",
            "100/100 - 21s - loss: 0.0293 - acc: 0.9900 - val_loss: 0.3586 - val_acc: 0.9210\n",
            "Epoch 79/100\n",
            "100/100 - 21s - loss: 0.0232 - acc: 0.9905 - val_loss: 0.2623 - val_acc: 0.9320\n",
            "Epoch 80/100\n",
            "100/100 - 21s - loss: 0.0191 - acc: 0.9930 - val_loss: 0.2328 - val_acc: 0.9390\n",
            "Epoch 81/100\n",
            "100/100 - 21s - loss: 0.0243 - acc: 0.9890 - val_loss: 0.3045 - val_acc: 0.9310\n",
            "Epoch 82/100\n",
            "100/100 - 21s - loss: 0.0270 - acc: 0.9900 - val_loss: 0.2234 - val_acc: 0.9370\n",
            "Epoch 83/100\n",
            "100/100 - 21s - loss: 0.0270 - acc: 0.9910 - val_loss: 0.4762 - val_acc: 0.9110\n",
            "Epoch 84/100\n",
            "100/100 - 21s - loss: 0.0206 - acc: 0.9905 - val_loss: 0.3649 - val_acc: 0.9250\n",
            "Epoch 85/100\n",
            "100/100 - 21s - loss: 0.0201 - acc: 0.9930 - val_loss: 0.2274 - val_acc: 0.9410\n",
            "Epoch 86/100\n",
            "100/100 - 21s - loss: 0.0218 - acc: 0.9925 - val_loss: 0.3063 - val_acc: 0.9310\n",
            "Epoch 87/100\n",
            "100/100 - 21s - loss: 0.0199 - acc: 0.9940 - val_loss: 0.2548 - val_acc: 0.9370\n",
            "Epoch 88/100\n",
            "100/100 - 21s - loss: 0.0275 - acc: 0.9915 - val_loss: 0.3040 - val_acc: 0.9340\n",
            "Epoch 89/100\n",
            "100/100 - 21s - loss: 0.0138 - acc: 0.9940 - val_loss: 0.3185 - val_acc: 0.9320\n",
            "Epoch 90/100\n",
            "100/100 - 21s - loss: 0.0272 - acc: 0.9925 - val_loss: 0.3568 - val_acc: 0.9260\n",
            "Epoch 91/100\n",
            "100/100 - 21s - loss: 0.0187 - acc: 0.9925 - val_loss: 0.2708 - val_acc: 0.9380\n",
            "Epoch 92/100\n",
            "100/100 - 21s - loss: 0.0151 - acc: 0.9925 - val_loss: 0.2654 - val_acc: 0.9440\n",
            "Epoch 93/100\n",
            "100/100 - 21s - loss: 0.0270 - acc: 0.9915 - val_loss: 0.2878 - val_acc: 0.9320\n",
            "Epoch 94/100\n",
            "100/100 - 21s - loss: 0.0183 - acc: 0.9920 - val_loss: 0.3869 - val_acc: 0.9240\n",
            "Epoch 95/100\n",
            "100/100 - 21s - loss: 0.0265 - acc: 0.9905 - val_loss: 0.3341 - val_acc: 0.9310\n",
            "Epoch 96/100\n",
            "100/100 - 21s - loss: 0.0174 - acc: 0.9940 - val_loss: 0.4286 - val_acc: 0.9250\n",
            "Epoch 97/100\n",
            "100/100 - 21s - loss: 0.0120 - acc: 0.9955 - val_loss: 0.3030 - val_acc: 0.9350\n",
            "Epoch 98/100\n",
            "100/100 - 21s - loss: 0.0149 - acc: 0.9945 - val_loss: 0.3419 - val_acc: 0.9310\n",
            "Epoch 99/100\n",
            "100/100 - 21s - loss: 0.0195 - acc: 0.9950 - val_loss: 0.2648 - val_acc: 0.9400\n",
            "Epoch 100/100\n",
            "100/100 - 21s - loss: 0.0250 - acc: 0.9930 - val_loss: 0.2334 - val_acc: 0.9450\n"
          ],
          "name": "stdout"
        }
      ]
    },
    {
      "cell_type": "code",
      "metadata": {
        "id": "GXw3HZ23_vpa",
        "colab_type": "code",
        "colab": {}
      },
      "source": [
        "model.save('cats_and_dogs_small_4.h5')"
      ],
      "execution_count": 30,
      "outputs": []
    },
    {
      "cell_type": "code",
      "metadata": {
        "id": "rTTv0vxWIBxh",
        "colab_type": "code",
        "colab": {
          "base_uri": "https://localhost:8080/",
          "height": 545
        },
        "outputId": "74794530-360d-40f7-bd97-5e15d434c7e7"
      },
      "source": [
        "acc = history.history['acc']\n",
        "val_acc = history.history['val_acc']\n",
        "loss = history.history['loss']\n",
        "val_loss = history.history['val_loss']\n",
        "\n",
        "epochs = range(len(acc))\n",
        "\n",
        "plt.plot(epochs, acc, 'bo', label='Training acc')\n",
        "plt.plot(epochs, val_acc, 'b', label='Validation acc')\n",
        "plt.title('Training and validation accuracy')\n",
        "plt.legend()\n",
        "\n",
        "plt.figure()\n",
        "\n",
        "plt.plot(epochs, loss, 'bo', label='Training loss')\n",
        "plt.plot(epochs, val_loss, 'b', label='Validation loss')\n",
        "plt.title('Training and validation loss')\n",
        "plt.legend()\n",
        "\n",
        "plt.show()"
      ],
      "execution_count": 31,
      "outputs": [
        {
          "output_type": "display_data",
          "data": {
            "image/png": "[encoded data removed]",
            "text/plain": [
              "<Figure size 432x288 with 1 Axes>"
            ]
          },
          "metadata": {
            "tags": [],
            "needs_background": "light"
          }
        },
        {
          "output_type": "display_data",
          "data": {
            "image/png": "[encoded data removed]",
            "text/plain": [
              "<Figure size 432x288 with 1 Axes>"
            ]
          },
          "metadata": {
            "tags": [],
            "needs_background": "light"
          }
        }
      ]
    },
    {
      "cell_type": "code",
      "metadata": {
        "id": "ehpeKScOIFGO",
        "colab_type": "code",
        "colab": {
          "base_uri": "https://localhost:8080/",
          "height": 50
        },
        "outputId": "663a3bfe-85b8-4e9a-e1a1-86fe1611aa6a"
      },
      "source": [
        "test_generator = test_datagen.flow_from_directory(\n",
        "    test_dir,\n",
        "    target_size=(150,150),\n",
        "    batch_size=20,\n",
        "    class_mode='binary'\n",
        ")\n",
        "\n",
        "test_loss, test_acc = model.evaluate(test_generator,verbose=2)"
      ],
      "execution_count": 32,
      "outputs": [
        {
          "output_type": "stream",
          "text": [
            "Found 1000 images belonging to 2 classes.\n",
            "50/50 - 4s - loss: 0.3158 - acc: 0.9440\n"
          ],
          "name": "stdout"
        }
      ]
    },
    {
      "cell_type": "code",
      "metadata": {
        "id": "Z9U-TgWaIh-g",
        "colab_type": "code",
        "colab": {}
      },
      "source": [
        ""
      ],
      "execution_count": null,
      "outputs": []
    }
  ]
}